{
 "cells": [
  {
   "cell_type": "markdown",
   "id": "3b78a3d7",
   "metadata": {},
   "source": [
    "## fastpredict"
   ]
  },
  {
   "cell_type": "code",
   "execution_count": null,
   "id": "28ffe71c",
   "metadata": {
    "vscode": {
     "languageId": "plaintext"
    }
   },
   "outputs": [],
   "source": [
    "!pip install transformers torch pandas scikit-learn"
   ]
  },
  {
   "cell_type": "code",
   "execution_count": null,
   "id": "18850098",
   "metadata": {},
   "outputs": [],
   "source": [
    "import pandas as pd\n",
    "import torch\n",
    "from transformers import pipeline\n",
    "import time\n",
    "from sklearn.metrics import f1_score\n",
    "import uuid"
   ]
  },
  {
   "cell_type": "code",
   "execution_count": null,
   "id": "0dbf20f9",
   "metadata": {},
   "outputs": [],
   "source": [
    "categories = [\n",
    "    \"бытовая техника\", \"обувь\", \"одежда\", \"посуда\", \"текстиль\",\n",
    "    \"товары для детей\", \"украшения и аксессуары\", \"электроника\", \"нет товара\"\n",
    "]\n",
    "train_df = pd.read_csv(\"train.csv\")\n",
    "test_df = pd.read_csv(\"test.csv\")\n",
    "\n",
    "# Initializing the model\n",
    "model_name = \"distilbert-base-multilingual-cased\"\n",
    "classifier = pipeline(\"zero-shot-classification\", model=model_name, tokenizer=model_name, device=0 if torch.cuda.is_available() else -1)"
   ]
  },
  {
   "cell_type": "code",
   "execution_count": null,
   "id": "93a153bc",
   "metadata": {},
   "outputs": [],
   "source": [
    "prompt_template = \"\"\"\n",
    "Классифицируй следующий отзыв с маркетплейса по категории товара. Категории: {categories}. Если отзыв связан с недоставкой, отменой заказа или не относится к конкретному товару, выбери категорию \"нет товара\". Используй контекст и примеры ниже для точной классификации.\n",
    "\n",
    "### Инструкции:\n",
    "- Проанализируй текст отзыва, обращая внимание на упоминания типа товара, материала, качества, доставки или размера.\n",
    "- Если товар явно не упомянут или отзыв о недоставке, выбери \"нет товара\".\n",
    "- Верни только название категории.\n",
    "\n",
    "### Примеры:\n",
    "1. **Отзыв**: \"Заказали 14.10.2017, получили 25.10.2017. На мой размер 42, широкий как мешок. Надо было все таки размер S заказать. По поводу качества хороший пуховик. Мех натуральный, съемный.\"\n",
    "   - **Категория**: одежда\n",
    "\n",
    "2. **Отзыв**: \"Товар не получила, деньги не вернули!\"\n",
    "   - **Категория**: нет товара\n",
    "\n",
    "3. **Отзыв**: \"Качество очень даже неплохое, синтетика немного похожа на замшу. Но размер просто капелюшчный, на 44 размер XXL еле подошёл.\"\n",
    "   - **Категория**: одежда\n",
    "\n",
    "4. **Отзыв**: \"Очень красивый боди, только нужно полностью его снимать, чтобы сходить в уборную.\"\n",
    "   - **Категория**: одежда\n",
    "\n",
    "5. **Отзыв**: \"Идеальные носочки! Беру уже второй раз, очень довольна. Качество хорошее, никаких дырок.\"\n",
    "   - **Категория**: одежда\n",
    "\n",
    "6. **Отзыв**: \"Качество отличное, доставка до Башкирии 3 недели\"\n",
    "   - **Категория**: одежда (предполагается, так как контекст типичен для одежды)\n",
    "\n",
    "7. **Отзыв**: \"джинсы пришли с пятнами\"\n",
    "   - **Категория**: одежда\n",
    "\n",
    "8. **Отзыв**: \"Товар не пришёл, деньги не вернули.\"\n",
    "   - **Категория**: нет товара\n",
    "\n",
    "9. **Отзыв**: \"Цвет черный а не темно синий, обидно. Шапка хорошая.\"\n",
    "   - **Категория**: одежда\n",
    "\n",
    "10. **Отзыв**: \"Очень милые носочки, качество не плохое\"\n",
    "    - **Категория**: одежда\n",
    "\n",
    "### Отзыв для классификации:\n",
    "\"{review}\"\n",
    "\n",
    "### Категория:\n",
    "\"\"\""
   ]
  },
  {
   "cell_type": "code",
   "execution_count": null,
   "id": "712e0f0d",
   "metadata": {},
   "outputs": [],
   "source": [
    "def classify_review(review):\n",
    "    prompt = prompt_template.format(categories=\", \".join(categories), review=review)\n",
    "    result = classifier(prompt, candidate_labels=categories, hypothesis_template=\"Этот отзыв относится к категории {}.\")\n",
    "    return result[\"labels\"][0]"
   ]
  },
  {
   "cell_type": "code",
   "execution_count": null,
   "id": "85c31d5a",
   "metadata": {},
   "outputs": [],
   "source": [
    "predictions = []\n",
    "start_time = time.time()\n",
    "for review in test_df[\"text\"]:\n",
    "    pred = classify_review(review)\n",
    "    predictions.append(pred)\n",
    "end_time = time.time()"
   ]
  },
  {
   "cell_type": "code",
   "execution_count": null,
   "id": "a57602ec",
   "metadata": {},
   "outputs": [],
   "source": [
    "avg_time = (end_time - start_time) / len(test_df)\n",
    "print(f\"Average inference time per review: {avg_time:.2f} seconds\")\n",
    "\n",
    "# Saving predictions to CSV\n",
    "output_df = pd.DataFrame({\"text\": test_df[\"text\"], \"category\": predictions})\n",
    "output_df.to_csv(\"predictions.csv\", index=False)\n",
    "print(\"Predictions saved to predictions.csv\")"
   ]
  },
  {
   "cell_type": "code",
   "execution_count": null,
   "id": "ac723ac1",
   "metadata": {},
   "outputs": [],
   "source": [
    "print(\"\\nSample predictions:\")\n",
    "print(output_df.head())"
   ]
  }
 ],
 "metadata": {
  "language_info": {
   "name": "python"
  }
 },
 "nbformat": 4,
 "nbformat_minor": 5
}
