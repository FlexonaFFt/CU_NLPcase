{
 "cells": [
  {
   "cell_type": "code",
   "execution_count": null,
   "id": "2ef35a97",
   "metadata": {
    "vscode": {
     "languageId": "plaintext"
    }
   },
   "outputs": [],
   "source": [
    "!pip install transformers torch datasets scikit-learn pandas accelerate peft regex"
   ]
  },
  {
   "cell_type": "code",
   "execution_count": null,
   "id": "09a25606",
   "metadata": {},
   "outputs": [],
   "source": [
    "import pandas as pd\n",
    "import torch\n",
    "import re\n",
    "from transformers import AutoTokenizer, AutoModelForSeq2SeqLM, pipeline\n",
    "from sklearn.metrics import f1_score\n",
    "from sklearn.model_selection import train_test_split\n",
    "from datasets import Dataset\n",
    "from peft import LoraConfig, get_peft_model\n",
    "from transformers import AutoModelForSequenceClassification, TrainingArguments, Trainer\n",
    "import time\n",
    "from google.colab import files"
   ]
  },
  {
   "cell_type": "markdown",
   "id": "b96e074e",
   "metadata": {},
   "source": [
    "## Загрузка данных"
   ]
  },
  {
   "cell_type": "code",
   "execution_count": null,
   "id": "fea2b47d",
   "metadata": {},
   "outputs": [],
   "source": [
    "train_df = pd.read_csv('/content/train.csv')  \n",
    "test_df = pd.read_csv('/content/test.csv')    \n",
    "categories = ['бытовая техника', 'обувь', 'одежда', 'посуда', 'текстиль', 'товары для детей', 'украшения и аксессуары', 'электроника', 'нет товара']"
   ]
  },
  {
   "cell_type": "markdown",
   "id": "8b634a87",
   "metadata": {},
   "source": [
    "## Промпт инжиниринг"
   ]
  },
  {
   "cell_type": "code",
   "execution_count": null,
   "id": "900da048",
   "metadata": {},
   "outputs": [],
   "source": [
    "few_shot_examples = [\n",
    "    (\"Заказали 14.10.2017, получили 25.10.2017. На мой размер 42, широкий как мешок. По поводу качества хороший пуховик. Мех натуральный, съемный.\", \"одежда\", \"Шаг1: Ключевые: пуховик, мех. Шаг2: Верхняя одежда. Шаг3: Товар упомянут. Шаг4: одежда.\"),\n",
    "    (\"Товар не получила, деньги не вернули! Открыла спор, но его закрыли.\", \"нет товара\", \"Шаг1: Нет ключевых слов о товаре. Шаг2: N/A. Шаг3: Только спор/доставка. Шаг4: нет товара.\"),\n",
    "    (\"На 42-44 маленькая ОЧЕНЬ! Рукава короткие! ... подождите, это обувь? Нет, ботинки пришли с дыркой, низ рваный.\", \"обувь\", \"Шаг1: Ключевые: ботинки, низ рваный. Шаг2: Обувь. Шаг3: Товар упомянут. Шаг4: обувь.\"),\n",
    "    (\"Посуда пришла с браком, тарелки треснули, кастрюля тонкая.\", \"посуда\", \"Шаг1: Ключевые: посуда, тарелки, кастрюля. Шаг2: Кухонная утварь. Шаг3: Товар упомянут. Шаг4: посуда.\"),\n",
    "    (\"Ткань прозрачная, постельное белье видно нижнее, но мягкое.\", \"текстиль\", \"Шаг1: Ключевые: постельное белье, ткань. Шаг2: Текстиль, не одежда. Шаг3: Товар упомянут. Шаг4: текстиль.\"),\n",
    "    (\"Игрушка для ребенка сломалась, одежда для малышей мала, но качество хорошее.\", \"товары для детей\", \"Шаг1: Ключевые: игрушка, одежда для малышей. Шаг2: Детские товары. Шаг3: Товар упомянут. Шаг4: товары для детей.\"),\n",
    "    (\"Серьги красивые, но аксессуары с браком, сумка не застегивается.\", \"украшения и аксессуары\", \"Шаг1: Ключевые: серьги, аксессуары, сумка. Шаг2: Ювелирка/аксессуары. Шаг3: Товар упомянут. Шаг4: украшения и аксессуары.\"),\n",
    "    (\"Чайник сломался через неделю, бытовая техника низкого качества.\", \"бытовая техника\", \"Шаг1: Ключевые: чайник, бытовая техника. Шаг2: Приборы. Шаг3: Товар упомянут. Шаг4: бытовая техника.\")\n",
    "]"
   ]
  },
  {
   "cell_type": "code",
   "execution_count": null,
   "id": "3aca3681",
   "metadata": {},
   "outputs": [],
   "source": [
    "prompt_template = \"\"\"<role>Ты эксперт по анализу отзывов с маркетплейсов (AliExpress, Wildberries). Твоя специализация — классификация по категориям товаров на основе ключевых упоминаний. Будь точным: анализируй только текст отзыва, игнорируй эмоции/доставку, если нет товара.</role>\n",
    "\n",
    "<categories>\n",
    "Доступные категории (выбери ровно одну, основываясь на товаре):\n",
    "{categories_list}\n",
    "</categories>\n",
    "\n",
    "<instructions>\n",
    "Выполни классификацию в 4 шага (мысленно, не пиши их в ответе, кроме как в примерах):\n",
    "1. Извлеки ключевые слова о товаре (e.g., \"пуховик\" — одежда; \"чайник\" — бытовая техника).\n",
    "2. Сопоставь с категорией: используй описания выше. Если товар граничит (e.g., детская одежда — \"товары для детей\", если указано; иначе \"одежда\").\n",
    "3. Проверь на \"нет товара\": если отзыв только о доставке/качестве без конкретики — это класс.\n",
    "4. Выбери одну категорию. Если неоднозначно — fallback на \"одежда\" (самая частая в отзывах).\n",
    "</instructions>\n",
    "\n",
    "<examples>\n",
    "{examples_str}\n",
    "</examples>\n",
    "\n",
    "<query>\n",
    "Новый отзыв: {text}\n",
    "</query>\n",
    "\n",
    "<output_format>\n",
    "Ответь только в формате: <category>[название категории]</category>\n",
    "Не добавляй объяснения или текст.\n",
    "</output_format>\"\"\""
   ]
  },
  {
   "cell_type": "code",
   "execution_count": null,
   "id": "f5687b62",
   "metadata": {},
   "outputs": [],
   "source": [
    "def build_prompt(text, examples):\n",
    "    categories_list = \"\\n\".join([f\"- {cat}: {desc}\" for cat, desc in [\n",
    "        ('бытовая техника', 'бытовые приборы (чайник, пылесос, стиральная машина)'),\n",
    "        ('обувь', 'обувь (ботинки, кроссовки, туфли)'),\n",
    "        ('одежда', 'одежда (футболки, штаны, платья, куртки, шапки, белье)'),\n",
    "        ('посуда', 'кухонная посуда (тарелки, кастрюли, стаканы)'),\n",
    "        ('текстиль', 'текстильные изделия (постельное белье, полотенца, шарфы, не одежда)'),\n",
    "        ('товары для детей', 'детские товары (игрушки, одежда для малышей, коляски)'),\n",
    "        ('украшения и аксессуары', 'ювелирка и аксессуары (серьги, сумки, часы, не одежда)'),\n",
    "        ('электроника', 'гаджеты (телефон, наушники, зарядки)'),\n",
    "        ('нет товара', 'если нет упоминания товара (только доставка, спор, возврат денег)')\n",
    "    ]])\n",
    "    examples_str = \"\\n\".join([\n",
    "        f\"<example>\\n<отзыв>{ex[0]}</отзыв>\\n<cot>{ex[2]}</cot>\\n<category>{ex[1]}</category>\\n</example>\"\n",
    "        for ex in examples\n",
    "    ])\n",
    "    return prompt_template.format(categories_list=categories_list, examples_str=examples_str, text=text)"
   ]
  },
  {
   "cell_type": "markdown",
   "id": "37cc902e",
   "metadata": {},
   "source": [
    "## Модель"
   ]
  },
  {
   "cell_type": "code",
   "execution_count": null,
   "id": "e2fdec7b",
   "metadata": {},
   "outputs": [],
   "source": [
    "model_name = \"sberbank-ai/ruT5-large\"  \n",
    "tokenizer = AutoTokenizer.from_pretrained(model_name)\n",
    "model = AutoModelForSeq2SeqLM.from_pretrained(model_name)\n",
    "generator = pipeline(\"text2text-generation\", model=model, tokenizer=tokenizer, device=0 if torch.cuda.is_available() else -1, max_new_tokens=20, do_sample=False)"
   ]
  },
  {
   "cell_type": "code",
   "execution_count": null,
   "id": "2c8961dd",
   "metadata": {},
   "outputs": [],
   "source": [
    "def classify_review(text, examples):\n",
    "    prompt = build_prompt(text, examples)\n",
    "    result = generator(prompt)[0]['generated_text']\n",
    "\n",
    "    match = re.search(r'<category>([^<]+)</category>', result)\n",
    "    category = match.group(1).strip() if match else \"нет товара\" \n",
    "    if category not in categories:\n",
    "        category = \"нет товара\"\n",
    "    return category"
   ]
  },
  {
   "cell_type": "code",
   "execution_count": null,
   "id": "7a727bdc",
   "metadata": {},
   "outputs": [],
   "source": [
    "predictions = []\n",
    "start_time = time.time()\n",
    "for idx, row in test_df.iterrows():\n",
    "    pred = classify_review(row['text'], few_shot_examples)\n",
    "    predictions.append(pred)\n",
    "    if (idx + 1) % 100 == 0:\n",
    "        elapsed = (time.time() - start_time) / (idx + 1)\n",
    "        print(f\"Processed {idx+1}/{len(test_df)}, avg time: {elapsed:.2f}s\")\n",
    "avg_time = (time.time() - start_time) / len(test_df)\n",
    "print(f\"Avg time per example: {avg_time:.2f}s (must <5s)\")"
   ]
  },
  {
   "cell_type": "code",
   "execution_count": null,
   "id": "987ac6ee",
   "metadata": {},
   "outputs": [],
   "source": [
    "submission = pd.DataFrame({'category': predictions})\n",
    "submission.to_csv('/content/submission.csv', index=False)\n",
    "files.download('/content/submission.csv')\n",
    "print(\"Submission saved and downloaded!\")"
   ]
  },
  {
   "cell_type": "code",
   "execution_count": null,
   "id": "44d9b4d6",
   "metadata": {},
   "outputs": [],
   "source": [
    "train_sample = train_df.head(200).copy()\n",
    "keyword_map = {\n",
    "    'одежда': ['футболка', 'пуховик', 'штаны', 'платье', 'блузка', 'юбка', 'кофта', 'свитер'],\n",
    "    'нет товара': ['доставка', 'спор', 'деньги не вернули', 'не пришла'],\n",
    "    'обувь': ['обувь', 'ботинки', 'кроссовки'],\n",
    "}\n",
    "\n",
    "def dummy_label(text):\n",
    "    text_lower = text.lower()\n",
    "    for cat, kws in keyword_map.items():\n",
    "        if any(kw in text_lower for kw in kws):\n",
    "            return cat\n",
    "    return 'одежда'\n",
    "\n",
    "true_labels = [dummy_label(t) for t in train_sample['text']]\n",
    "pred_labels = [classify_review(t, few_shot_examples) for t in train_sample['text']]\n",
    "f1 = f1_score(true_labels, pred_labels, average='weighted')\n",
    "print(f\"Simulated Weighted F1 on train sample: {f1:.3f}\")"
   ]
  }
 ],
 "metadata": {
  "language_info": {
   "name": "python"
  }
 },
 "nbformat": 4,
 "nbformat_minor": 5
}
