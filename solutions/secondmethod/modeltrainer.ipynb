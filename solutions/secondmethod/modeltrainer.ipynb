{
  "cells": [
    {
      "cell_type": "markdown",
      "id": "0a228dac",
      "metadata": {
        "id": "0a228dac"
      },
      "source": [
        "# LLM Классификация Отзывов: Полный Пайплайн (Промпт + BERT)\n",
        "\n",
        "Цель: Классифицировать test.csv по категориям из categories.txt.  \n",
        "Метрика: Weighted F1 (>0.90 цель).  \n",
        "Ограничения: Только train для обучения/валидации; <5 сек/пример; Colab T4.\n",
        "\n",
        "Этапы:\n",
        "1. Установка.\n",
        "2. Загрузка данных.\n",
        "3. Разметка train (Mistral zero-shot).\n",
        "4. Аугментация few-shot.\n",
        "5. Промпт-инжиниринг (few-shot CoT).\n",
        "6. Fine-tune BERT (Google multilingual) — опционально для +F1.\n",
        "7. Инференс на test + submission.csv."
      ]
    },
    {
      "cell_type": "code",
      "execution_count": 1,
      "id": "87133772",
      "metadata": {
        "vscode": {
          "languageId": "plaintext"
        },
        "colab": {
          "base_uri": "https://localhost:8080/"
        },
        "id": "87133772",
        "outputId": "9c4797b0-e726-4503-fa09-ebc0c18cf444"
      },
      "outputs": [
        {
          "output_type": "stream",
          "name": "stdout",
          "text": [
            "Requirement already satisfied: transformers in /usr/local/lib/python3.12/dist-packages (4.56.1)\n",
            "Requirement already satisfied: accelerate in /usr/local/lib/python3.12/dist-packages (1.10.1)\n",
            "Requirement already satisfied: bitsandbytes in /usr/local/lib/python3.12/dist-packages (0.47.0)\n",
            "Requirement already satisfied: datasets in /usr/local/lib/python3.12/dist-packages (4.0.0)\n",
            "Requirement already satisfied: pandas in /usr/local/lib/python3.12/dist-packages (2.2.2)\n",
            "Requirement already satisfied: scikit-learn in /usr/local/lib/python3.12/dist-packages (1.6.1)\n",
            "Requirement already satisfied: filelock in /usr/local/lib/python3.12/dist-packages (from transformers) (3.19.1)\n",
            "Requirement already satisfied: huggingface-hub<1.0,>=0.34.0 in /usr/local/lib/python3.12/dist-packages (from transformers) (0.34.4)\n",
            "Requirement already satisfied: numpy>=1.17 in /usr/local/lib/python3.12/dist-packages (from transformers) (2.0.2)\n",
            "Requirement already satisfied: packaging>=20.0 in /usr/local/lib/python3.12/dist-packages (from transformers) (25.0)\n",
            "Requirement already satisfied: pyyaml>=5.1 in /usr/local/lib/python3.12/dist-packages (from transformers) (6.0.2)\n",
            "Requirement already satisfied: regex!=2019.12.17 in /usr/local/lib/python3.12/dist-packages (from transformers) (2024.11.6)\n",
            "Requirement already satisfied: requests in /usr/local/lib/python3.12/dist-packages (from transformers) (2.32.4)\n",
            "Requirement already satisfied: tokenizers<=0.23.0,>=0.22.0 in /usr/local/lib/python3.12/dist-packages (from transformers) (0.22.0)\n",
            "Requirement already satisfied: safetensors>=0.4.3 in /usr/local/lib/python3.12/dist-packages (from transformers) (0.6.2)\n",
            "Requirement already satisfied: tqdm>=4.27 in /usr/local/lib/python3.12/dist-packages (from transformers) (4.67.1)\n",
            "Requirement already satisfied: psutil in /usr/local/lib/python3.12/dist-packages (from accelerate) (5.9.5)\n",
            "Requirement already satisfied: torch>=2.0.0 in /usr/local/lib/python3.12/dist-packages (from accelerate) (2.8.0+cu126)\n",
            "Requirement already satisfied: pyarrow>=15.0.0 in /usr/local/lib/python3.12/dist-packages (from datasets) (18.1.0)\n",
            "Requirement already satisfied: dill<0.3.9,>=0.3.0 in /usr/local/lib/python3.12/dist-packages (from datasets) (0.3.8)\n",
            "Requirement already satisfied: xxhash in /usr/local/lib/python3.12/dist-packages (from datasets) (3.5.0)\n",
            "Requirement already satisfied: multiprocess<0.70.17 in /usr/local/lib/python3.12/dist-packages (from datasets) (0.70.16)\n",
            "Requirement already satisfied: fsspec<=2025.3.0,>=2023.1.0 in /usr/local/lib/python3.12/dist-packages (from fsspec[http]<=2025.3.0,>=2023.1.0->datasets) (2025.3.0)\n",
            "Requirement already satisfied: python-dateutil>=2.8.2 in /usr/local/lib/python3.12/dist-packages (from pandas) (2.9.0.post0)\n",
            "Requirement already satisfied: pytz>=2020.1 in /usr/local/lib/python3.12/dist-packages (from pandas) (2025.2)\n",
            "Requirement already satisfied: tzdata>=2022.7 in /usr/local/lib/python3.12/dist-packages (from pandas) (2025.2)\n",
            "Requirement already satisfied: scipy>=1.6.0 in /usr/local/lib/python3.12/dist-packages (from scikit-learn) (1.16.1)\n",
            "Requirement already satisfied: joblib>=1.2.0 in /usr/local/lib/python3.12/dist-packages (from scikit-learn) (1.5.2)\n",
            "Requirement already satisfied: threadpoolctl>=3.1.0 in /usr/local/lib/python3.12/dist-packages (from scikit-learn) (3.6.0)\n",
            "Requirement already satisfied: aiohttp!=4.0.0a0,!=4.0.0a1 in /usr/local/lib/python3.12/dist-packages (from fsspec[http]<=2025.3.0,>=2023.1.0->datasets) (3.12.15)\n",
            "Requirement already satisfied: typing-extensions>=3.7.4.3 in /usr/local/lib/python3.12/dist-packages (from huggingface-hub<1.0,>=0.34.0->transformers) (4.15.0)\n",
            "Requirement already satisfied: hf-xet<2.0.0,>=1.1.3 in /usr/local/lib/python3.12/dist-packages (from huggingface-hub<1.0,>=0.34.0->transformers) (1.1.9)\n",
            "Requirement already satisfied: six>=1.5 in /usr/local/lib/python3.12/dist-packages (from python-dateutil>=2.8.2->pandas) (1.17.0)\n",
            "Requirement already satisfied: charset_normalizer<4,>=2 in /usr/local/lib/python3.12/dist-packages (from requests->transformers) (3.4.3)\n",
            "Requirement already satisfied: idna<4,>=2.5 in /usr/local/lib/python3.12/dist-packages (from requests->transformers) (3.10)\n",
            "Requirement already satisfied: urllib3<3,>=1.21.1 in /usr/local/lib/python3.12/dist-packages (from requests->transformers) (2.5.0)\n",
            "Requirement already satisfied: certifi>=2017.4.17 in /usr/local/lib/python3.12/dist-packages (from requests->transformers) (2025.8.3)\n",
            "Requirement already satisfied: setuptools in /usr/local/lib/python3.12/dist-packages (from torch>=2.0.0->accelerate) (75.2.0)\n",
            "Requirement already satisfied: sympy>=1.13.3 in /usr/local/lib/python3.12/dist-packages (from torch>=2.0.0->accelerate) (1.13.3)\n",
            "Requirement already satisfied: networkx in /usr/local/lib/python3.12/dist-packages (from torch>=2.0.0->accelerate) (3.5)\n",
            "Requirement already satisfied: jinja2 in /usr/local/lib/python3.12/dist-packages (from torch>=2.0.0->accelerate) (3.1.6)\n",
            "Requirement already satisfied: nvidia-cuda-nvrtc-cu12==12.6.77 in /usr/local/lib/python3.12/dist-packages (from torch>=2.0.0->accelerate) (12.6.77)\n",
            "Requirement already satisfied: nvidia-cuda-runtime-cu12==12.6.77 in /usr/local/lib/python3.12/dist-packages (from torch>=2.0.0->accelerate) (12.6.77)\n",
            "Requirement already satisfied: nvidia-cuda-cupti-cu12==12.6.80 in /usr/local/lib/python3.12/dist-packages (from torch>=2.0.0->accelerate) (12.6.80)\n",
            "Requirement already satisfied: nvidia-cudnn-cu12==9.10.2.21 in /usr/local/lib/python3.12/dist-packages (from torch>=2.0.0->accelerate) (9.10.2.21)\n",
            "Requirement already satisfied: nvidia-cublas-cu12==12.6.4.1 in /usr/local/lib/python3.12/dist-packages (from torch>=2.0.0->accelerate) (12.6.4.1)\n",
            "Requirement already satisfied: nvidia-cufft-cu12==11.3.0.4 in /usr/local/lib/python3.12/dist-packages (from torch>=2.0.0->accelerate) (11.3.0.4)\n",
            "Requirement already satisfied: nvidia-curand-cu12==10.3.7.77 in /usr/local/lib/python3.12/dist-packages (from torch>=2.0.0->accelerate) (10.3.7.77)\n",
            "Requirement already satisfied: nvidia-cusolver-cu12==11.7.1.2 in /usr/local/lib/python3.12/dist-packages (from torch>=2.0.0->accelerate) (11.7.1.2)\n",
            "Requirement already satisfied: nvidia-cusparse-cu12==12.5.4.2 in /usr/local/lib/python3.12/dist-packages (from torch>=2.0.0->accelerate) (12.5.4.2)\n",
            "Requirement already satisfied: nvidia-cusparselt-cu12==0.7.1 in /usr/local/lib/python3.12/dist-packages (from torch>=2.0.0->accelerate) (0.7.1)\n",
            "Requirement already satisfied: nvidia-nccl-cu12==2.27.3 in /usr/local/lib/python3.12/dist-packages (from torch>=2.0.0->accelerate) (2.27.3)\n",
            "Requirement already satisfied: nvidia-nvtx-cu12==12.6.77 in /usr/local/lib/python3.12/dist-packages (from torch>=2.0.0->accelerate) (12.6.77)\n",
            "Requirement already satisfied: nvidia-nvjitlink-cu12==12.6.85 in /usr/local/lib/python3.12/dist-packages (from torch>=2.0.0->accelerate) (12.6.85)\n",
            "Requirement already satisfied: nvidia-cufile-cu12==1.11.1.6 in /usr/local/lib/python3.12/dist-packages (from torch>=2.0.0->accelerate) (1.11.1.6)\n",
            "Requirement already satisfied: triton==3.4.0 in /usr/local/lib/python3.12/dist-packages (from torch>=2.0.0->accelerate) (3.4.0)\n",
            "Requirement already satisfied: aiohappyeyeballs>=2.5.0 in /usr/local/lib/python3.12/dist-packages (from aiohttp!=4.0.0a0,!=4.0.0a1->fsspec[http]<=2025.3.0,>=2023.1.0->datasets) (2.6.1)\n",
            "Requirement already satisfied: aiosignal>=1.4.0 in /usr/local/lib/python3.12/dist-packages (from aiohttp!=4.0.0a0,!=4.0.0a1->fsspec[http]<=2025.3.0,>=2023.1.0->datasets) (1.4.0)\n",
            "Requirement already satisfied: attrs>=17.3.0 in /usr/local/lib/python3.12/dist-packages (from aiohttp!=4.0.0a0,!=4.0.0a1->fsspec[http]<=2025.3.0,>=2023.1.0->datasets) (25.3.0)\n",
            "Requirement already satisfied: frozenlist>=1.1.1 in /usr/local/lib/python3.12/dist-packages (from aiohttp!=4.0.0a0,!=4.0.0a1->fsspec[http]<=2025.3.0,>=2023.1.0->datasets) (1.7.0)\n",
            "Requirement already satisfied: multidict<7.0,>=4.5 in /usr/local/lib/python3.12/dist-packages (from aiohttp!=4.0.0a0,!=4.0.0a1->fsspec[http]<=2025.3.0,>=2023.1.0->datasets) (6.6.4)\n",
            "Requirement already satisfied: propcache>=0.2.0 in /usr/local/lib/python3.12/dist-packages (from aiohttp!=4.0.0a0,!=4.0.0a1->fsspec[http]<=2025.3.0,>=2023.1.0->datasets) (0.3.2)\n",
            "Requirement already satisfied: yarl<2.0,>=1.17.0 in /usr/local/lib/python3.12/dist-packages (from aiohttp!=4.0.0a0,!=4.0.0a1->fsspec[http]<=2025.3.0,>=2023.1.0->datasets) (1.20.1)\n",
            "Requirement already satisfied: mpmath<1.4,>=1.1.0 in /usr/local/lib/python3.12/dist-packages (from sympy>=1.13.3->torch>=2.0.0->accelerate) (1.3.0)\n",
            "Requirement already satisfied: MarkupSafe>=2.0 in /usr/local/lib/python3.12/dist-packages (from jinja2->torch>=2.0.0->accelerate) (3.0.2)\n"
          ]
        }
      ],
      "source": [
        "!pip install transformers accelerate bitsandbytes datasets pandas scikit-learn"
      ]
    },
    {
      "cell_type": "code",
      "execution_count": 2,
      "id": "f9b3f568",
      "metadata": {
        "id": "f9b3f568",
        "vscode": {
          "languageId": "plaintext"
        },
        "colab": {
          "base_uri": "https://localhost:8080/"
        },
        "outputId": "29cd759b-e86f-4262-afc4-b76e1adaad80"
      },
      "outputs": [
        {
          "output_type": "stream",
          "name": "stdout",
          "text": [
            "Requirement already satisfied: torch in /usr/local/lib/python3.12/dist-packages (2.8.0+cu126)\n",
            "Requirement already satisfied: torchvision in /usr/local/lib/python3.12/dist-packages (0.23.0+cu126)\n",
            "Requirement already satisfied: filelock in /usr/local/lib/python3.12/dist-packages (from torch) (3.19.1)\n",
            "Requirement already satisfied: typing-extensions>=4.10.0 in /usr/local/lib/python3.12/dist-packages (from torch) (4.15.0)\n",
            "Requirement already satisfied: setuptools in /usr/local/lib/python3.12/dist-packages (from torch) (75.2.0)\n",
            "Requirement already satisfied: sympy>=1.13.3 in /usr/local/lib/python3.12/dist-packages (from torch) (1.13.3)\n",
            "Requirement already satisfied: networkx in /usr/local/lib/python3.12/dist-packages (from torch) (3.5)\n",
            "Requirement already satisfied: jinja2 in /usr/local/lib/python3.12/dist-packages (from torch) (3.1.6)\n",
            "Requirement already satisfied: fsspec in /usr/local/lib/python3.12/dist-packages (from torch) (2025.3.0)\n",
            "Requirement already satisfied: nvidia-cuda-nvrtc-cu12==12.6.77 in /usr/local/lib/python3.12/dist-packages (from torch) (12.6.77)\n",
            "Requirement already satisfied: nvidia-cuda-runtime-cu12==12.6.77 in /usr/local/lib/python3.12/dist-packages (from torch) (12.6.77)\n",
            "Requirement already satisfied: nvidia-cuda-cupti-cu12==12.6.80 in /usr/local/lib/python3.12/dist-packages (from torch) (12.6.80)\n",
            "Requirement already satisfied: nvidia-cudnn-cu12==9.10.2.21 in /usr/local/lib/python3.12/dist-packages (from torch) (9.10.2.21)\n",
            "Requirement already satisfied: nvidia-cublas-cu12==12.6.4.1 in /usr/local/lib/python3.12/dist-packages (from torch) (12.6.4.1)\n",
            "Requirement already satisfied: nvidia-cufft-cu12==11.3.0.4 in /usr/local/lib/python3.12/dist-packages (from torch) (11.3.0.4)\n",
            "Requirement already satisfied: nvidia-curand-cu12==10.3.7.77 in /usr/local/lib/python3.12/dist-packages (from torch) (10.3.7.77)\n",
            "Requirement already satisfied: nvidia-cusolver-cu12==11.7.1.2 in /usr/local/lib/python3.12/dist-packages (from torch) (11.7.1.2)\n",
            "Requirement already satisfied: nvidia-cusparse-cu12==12.5.4.2 in /usr/local/lib/python3.12/dist-packages (from torch) (12.5.4.2)\n",
            "Requirement already satisfied: nvidia-cusparselt-cu12==0.7.1 in /usr/local/lib/python3.12/dist-packages (from torch) (0.7.1)\n",
            "Requirement already satisfied: nvidia-nccl-cu12==2.27.3 in /usr/local/lib/python3.12/dist-packages (from torch) (2.27.3)\n",
            "Requirement already satisfied: nvidia-nvtx-cu12==12.6.77 in /usr/local/lib/python3.12/dist-packages (from torch) (12.6.77)\n",
            "Requirement already satisfied: nvidia-nvjitlink-cu12==12.6.85 in /usr/local/lib/python3.12/dist-packages (from torch) (12.6.85)\n",
            "Requirement already satisfied: nvidia-cufile-cu12==1.11.1.6 in /usr/local/lib/python3.12/dist-packages (from torch) (1.11.1.6)\n",
            "Requirement already satisfied: triton==3.4.0 in /usr/local/lib/python3.12/dist-packages (from torch) (3.4.0)\n",
            "Requirement already satisfied: numpy in /usr/local/lib/python3.12/dist-packages (from torchvision) (2.0.2)\n",
            "Requirement already satisfied: pillow!=8.3.*,>=5.3.0 in /usr/local/lib/python3.12/dist-packages (from torchvision) (11.3.0)\n",
            "Requirement already satisfied: mpmath<1.4,>=1.1.0 in /usr/local/lib/python3.12/dist-packages (from sympy>=1.13.3->torch) (1.3.0)\n",
            "Requirement already satisfied: MarkupSafe>=2.0 in /usr/local/lib/python3.12/dist-packages (from jinja2->torch) (3.0.2)\n"
          ]
        }
      ],
      "source": [
        "!pip install torch torchvision"
      ]
    },
    {
      "cell_type": "code",
      "execution_count": 3,
      "id": "39b453e8",
      "metadata": {
        "vscode": {
          "languageId": "plaintext"
        },
        "colab": {
          "base_uri": "https://localhost:8080/"
        },
        "id": "39b453e8",
        "outputId": "6ac32fa7-1be2-43f7-9feb-b8a95115fa9a"
      },
      "outputs": [
        {
          "output_type": "stream",
          "name": "stdout",
          "text": [
            "Requirement already satisfied: peft in /usr/local/lib/python3.12/dist-packages (0.17.1)\n",
            "Requirement already satisfied: evaluate in /usr/local/lib/python3.12/dist-packages (0.4.5)\n",
            "Requirement already satisfied: numpy>=1.17 in /usr/local/lib/python3.12/dist-packages (from peft) (2.0.2)\n",
            "Requirement already satisfied: packaging>=20.0 in /usr/local/lib/python3.12/dist-packages (from peft) (25.0)\n",
            "Requirement already satisfied: psutil in /usr/local/lib/python3.12/dist-packages (from peft) (5.9.5)\n",
            "Requirement already satisfied: pyyaml in /usr/local/lib/python3.12/dist-packages (from peft) (6.0.2)\n",
            "Requirement already satisfied: torch>=1.13.0 in /usr/local/lib/python3.12/dist-packages (from peft) (2.8.0+cu126)\n",
            "Requirement already satisfied: transformers in /usr/local/lib/python3.12/dist-packages (from peft) (4.56.1)\n",
            "Requirement already satisfied: tqdm in /usr/local/lib/python3.12/dist-packages (from peft) (4.67.1)\n",
            "Requirement already satisfied: accelerate>=0.21.0 in /usr/local/lib/python3.12/dist-packages (from peft) (1.10.1)\n",
            "Requirement already satisfied: safetensors in /usr/local/lib/python3.12/dist-packages (from peft) (0.6.2)\n",
            "Requirement already satisfied: huggingface_hub>=0.25.0 in /usr/local/lib/python3.12/dist-packages (from peft) (0.34.4)\n",
            "Requirement already satisfied: datasets>=2.0.0 in /usr/local/lib/python3.12/dist-packages (from evaluate) (4.0.0)\n",
            "Requirement already satisfied: dill in /usr/local/lib/python3.12/dist-packages (from evaluate) (0.3.8)\n",
            "Requirement already satisfied: pandas in /usr/local/lib/python3.12/dist-packages (from evaluate) (2.2.2)\n",
            "Requirement already satisfied: requests>=2.19.0 in /usr/local/lib/python3.12/dist-packages (from evaluate) (2.32.4)\n",
            "Requirement already satisfied: xxhash in /usr/local/lib/python3.12/dist-packages (from evaluate) (3.5.0)\n",
            "Requirement already satisfied: multiprocess in /usr/local/lib/python3.12/dist-packages (from evaluate) (0.70.16)\n",
            "Requirement already satisfied: fsspec>=2021.05.0 in /usr/local/lib/python3.12/dist-packages (from fsspec[http]>=2021.05.0->evaluate) (2025.3.0)\n",
            "Requirement already satisfied: filelock in /usr/local/lib/python3.12/dist-packages (from datasets>=2.0.0->evaluate) (3.19.1)\n",
            "Requirement already satisfied: pyarrow>=15.0.0 in /usr/local/lib/python3.12/dist-packages (from datasets>=2.0.0->evaluate) (18.1.0)\n",
            "Requirement already satisfied: aiohttp!=4.0.0a0,!=4.0.0a1 in /usr/local/lib/python3.12/dist-packages (from fsspec[http]>=2021.05.0->evaluate) (3.12.15)\n",
            "Requirement already satisfied: typing-extensions>=3.7.4.3 in /usr/local/lib/python3.12/dist-packages (from huggingface_hub>=0.25.0->peft) (4.15.0)\n",
            "Requirement already satisfied: hf-xet<2.0.0,>=1.1.3 in /usr/local/lib/python3.12/dist-packages (from huggingface_hub>=0.25.0->peft) (1.1.9)\n",
            "Requirement already satisfied: charset_normalizer<4,>=2 in /usr/local/lib/python3.12/dist-packages (from requests>=2.19.0->evaluate) (3.4.3)\n",
            "Requirement already satisfied: idna<4,>=2.5 in /usr/local/lib/python3.12/dist-packages (from requests>=2.19.0->evaluate) (3.10)\n",
            "Requirement already satisfied: urllib3<3,>=1.21.1 in /usr/local/lib/python3.12/dist-packages (from requests>=2.19.0->evaluate) (2.5.0)\n",
            "Requirement already satisfied: certifi>=2017.4.17 in /usr/local/lib/python3.12/dist-packages (from requests>=2.19.0->evaluate) (2025.8.3)\n",
            "Requirement already satisfied: setuptools in /usr/local/lib/python3.12/dist-packages (from torch>=1.13.0->peft) (75.2.0)\n",
            "Requirement already satisfied: sympy>=1.13.3 in /usr/local/lib/python3.12/dist-packages (from torch>=1.13.0->peft) (1.13.3)\n",
            "Requirement already satisfied: networkx in /usr/local/lib/python3.12/dist-packages (from torch>=1.13.0->peft) (3.5)\n",
            "Requirement already satisfied: jinja2 in /usr/local/lib/python3.12/dist-packages (from torch>=1.13.0->peft) (3.1.6)\n",
            "Requirement already satisfied: nvidia-cuda-nvrtc-cu12==12.6.77 in /usr/local/lib/python3.12/dist-packages (from torch>=1.13.0->peft) (12.6.77)\n",
            "Requirement already satisfied: nvidia-cuda-runtime-cu12==12.6.77 in /usr/local/lib/python3.12/dist-packages (from torch>=1.13.0->peft) (12.6.77)\n",
            "Requirement already satisfied: nvidia-cuda-cupti-cu12==12.6.80 in /usr/local/lib/python3.12/dist-packages (from torch>=1.13.0->peft) (12.6.80)\n",
            "Requirement already satisfied: nvidia-cudnn-cu12==9.10.2.21 in /usr/local/lib/python3.12/dist-packages (from torch>=1.13.0->peft) (9.10.2.21)\n",
            "Requirement already satisfied: nvidia-cublas-cu12==12.6.4.1 in /usr/local/lib/python3.12/dist-packages (from torch>=1.13.0->peft) (12.6.4.1)\n",
            "Requirement already satisfied: nvidia-cufft-cu12==11.3.0.4 in /usr/local/lib/python3.12/dist-packages (from torch>=1.13.0->peft) (11.3.0.4)\n",
            "Requirement already satisfied: nvidia-curand-cu12==10.3.7.77 in /usr/local/lib/python3.12/dist-packages (from torch>=1.13.0->peft) (10.3.7.77)\n",
            "Requirement already satisfied: nvidia-cusolver-cu12==11.7.1.2 in /usr/local/lib/python3.12/dist-packages (from torch>=1.13.0->peft) (11.7.1.2)\n",
            "Requirement already satisfied: nvidia-cusparse-cu12==12.5.4.2 in /usr/local/lib/python3.12/dist-packages (from torch>=1.13.0->peft) (12.5.4.2)\n",
            "Requirement already satisfied: nvidia-cusparselt-cu12==0.7.1 in /usr/local/lib/python3.12/dist-packages (from torch>=1.13.0->peft) (0.7.1)\n",
            "Requirement already satisfied: nvidia-nccl-cu12==2.27.3 in /usr/local/lib/python3.12/dist-packages (from torch>=1.13.0->peft) (2.27.3)\n",
            "Requirement already satisfied: nvidia-nvtx-cu12==12.6.77 in /usr/local/lib/python3.12/dist-packages (from torch>=1.13.0->peft) (12.6.77)\n",
            "Requirement already satisfied: nvidia-nvjitlink-cu12==12.6.85 in /usr/local/lib/python3.12/dist-packages (from torch>=1.13.0->peft) (12.6.85)\n",
            "Requirement already satisfied: nvidia-cufile-cu12==1.11.1.6 in /usr/local/lib/python3.12/dist-packages (from torch>=1.13.0->peft) (1.11.1.6)\n",
            "Requirement already satisfied: triton==3.4.0 in /usr/local/lib/python3.12/dist-packages (from torch>=1.13.0->peft) (3.4.0)\n",
            "Requirement already satisfied: python-dateutil>=2.8.2 in /usr/local/lib/python3.12/dist-packages (from pandas->evaluate) (2.9.0.post0)\n",
            "Requirement already satisfied: pytz>=2020.1 in /usr/local/lib/python3.12/dist-packages (from pandas->evaluate) (2025.2)\n",
            "Requirement already satisfied: tzdata>=2022.7 in /usr/local/lib/python3.12/dist-packages (from pandas->evaluate) (2025.2)\n",
            "Requirement already satisfied: regex!=2019.12.17 in /usr/local/lib/python3.12/dist-packages (from transformers->peft) (2024.11.6)\n",
            "Requirement already satisfied: tokenizers<=0.23.0,>=0.22.0 in /usr/local/lib/python3.12/dist-packages (from transformers->peft) (0.22.0)\n",
            "Requirement already satisfied: aiohappyeyeballs>=2.5.0 in /usr/local/lib/python3.12/dist-packages (from aiohttp!=4.0.0a0,!=4.0.0a1->fsspec[http]>=2021.05.0->evaluate) (2.6.1)\n",
            "Requirement already satisfied: aiosignal>=1.4.0 in /usr/local/lib/python3.12/dist-packages (from aiohttp!=4.0.0a0,!=4.0.0a1->fsspec[http]>=2021.05.0->evaluate) (1.4.0)\n",
            "Requirement already satisfied: attrs>=17.3.0 in /usr/local/lib/python3.12/dist-packages (from aiohttp!=4.0.0a0,!=4.0.0a1->fsspec[http]>=2021.05.0->evaluate) (25.3.0)\n",
            "Requirement already satisfied: frozenlist>=1.1.1 in /usr/local/lib/python3.12/dist-packages (from aiohttp!=4.0.0a0,!=4.0.0a1->fsspec[http]>=2021.05.0->evaluate) (1.7.0)\n",
            "Requirement already satisfied: multidict<7.0,>=4.5 in /usr/local/lib/python3.12/dist-packages (from aiohttp!=4.0.0a0,!=4.0.0a1->fsspec[http]>=2021.05.0->evaluate) (6.6.4)\n",
            "Requirement already satisfied: propcache>=0.2.0 in /usr/local/lib/python3.12/dist-packages (from aiohttp!=4.0.0a0,!=4.0.0a1->fsspec[http]>=2021.05.0->evaluate) (0.3.2)\n",
            "Requirement already satisfied: yarl<2.0,>=1.17.0 in /usr/local/lib/python3.12/dist-packages (from aiohttp!=4.0.0a0,!=4.0.0a1->fsspec[http]>=2021.05.0->evaluate) (1.20.1)\n",
            "Requirement already satisfied: six>=1.5 in /usr/local/lib/python3.12/dist-packages (from python-dateutil>=2.8.2->pandas->evaluate) (1.17.0)\n",
            "Requirement already satisfied: mpmath<1.4,>=1.1.0 in /usr/local/lib/python3.12/dist-packages (from sympy>=1.13.3->torch>=1.13.0->peft) (1.3.0)\n",
            "Requirement already satisfied: MarkupSafe>=2.0 in /usr/local/lib/python3.12/dist-packages (from jinja2->torch>=1.13.0->peft) (3.0.2)\n"
          ]
        }
      ],
      "source": [
        "!pip install peft evaluate"
      ]
    },
    {
      "cell_type": "code",
      "execution_count": 4,
      "id": "22cae042",
      "metadata": {
        "id": "22cae042"
      },
      "outputs": [],
      "source": [
        "import torch\n",
        "import pandas as pd\n",
        "import numpy as np\n",
        "import time\n",
        "import re\n",
        "from sklearn.metrics import f1_score\n",
        "from sklearn.model_selection import train_test_split\n",
        "from sklearn.preprocessing import LabelEncoder\n",
        "import evaluate\n",
        "from transformers import (\n",
        "    AutoTokenizer, AutoModelForCausalLM, BitsAndBytesConfig,\n",
        "    AutoModelForSequenceClassification, TrainingArguments, Trainer,\n",
        "    DataCollatorWithPadding, pipeline\n",
        ")\n",
        "from datasets import Dataset\n",
        "from peft import LoraConfig, get_peft_model, TaskType"
      ]
    },
    {
      "cell_type": "code",
      "execution_count": 5,
      "id": "bdbb71d8",
      "metadata": {
        "colab": {
          "base_uri": "https://localhost:8080/"
        },
        "id": "bdbb71d8",
        "outputId": "5cf31c18-5327-40f5-b1a1-e79ac787c157"
      },
      "outputs": [
        {
          "output_type": "stream",
          "name": "stdout",
          "text": [
            "GPU: True. VRAM: 15.8 GB\n"
          ]
        }
      ],
      "source": [
        "print(f\"GPU: {torch.cuda.is_available()}. VRAM: {torch.cuda.get_device_properties(0).total_memory / 1e9:.1f} GB\")"
      ]
    },
    {
      "cell_type": "markdown",
      "id": "e1de2de3",
      "metadata": {
        "id": "e1de2de3"
      },
      "source": [
        "## Разметка Train (Qwen Zero-Shot для Few-Shot)\n",
        "Валидация только на holdout из train (test.csv не трогаем!)."
      ]
    },
    {
      "cell_type": "code",
      "execution_count": 6,
      "id": "M_U2yvRVbKLz",
      "metadata": {
        "id": "M_U2yvRVbKLz",
        "colab": {
          "base_uri": "https://localhost:8080/"
        },
        "outputId": "eebcc1a0-1f51-455b-f0df-116312fe5f40"
      },
      "outputs": [
        {
          "output_type": "stream",
          "name": "stdout",
          "text": [
            "Категории: ['бытовая техника', 'обувь', 'одежда', 'посуда', 'текстиль', 'товары для детей', 'украшения и аксессуары', 'электроника', 'нет товара']\n",
            "Train: 1819 отзывов\n",
            "Test: 7277 отзывов\n"
          ]
        }
      ],
      "source": [
        "# Категории\n",
        "with open('categories.txt', 'r', encoding='utf-8') as f:\n",
        "    categories = [line.strip() for line in f.readlines()]\n",
        "categories_str = \", \".join(categories)\n",
        "print(\"Категории:\", categories)\n",
        "\n",
        "# Train и Test\n",
        "train_df = pd.read_csv('train.csv', names=['text'])  # Убираем кавычки и переносы\n",
        "train_df['text'] = train_df['text'].str.strip().str.replace(r'^\"', '', regex=True).str.replace(r'\"$', '', regex=True)\n",
        "\n",
        "test_df = pd.read_csv('test.csv', names=['text'])\n",
        "test_df['text'] = test_df['text'].str.strip().str.replace(r'^\"', '', regex=True).str.replace(r'\"$', '', regex=True)\n",
        "\n",
        "print(f\"Train: {len(train_df)} отзывов\\nTest: {len(test_df)} отзывов\")"
      ]
    },
    {
      "cell_type": "code",
      "execution_count": 7,
      "id": "db8f4a9b",
      "metadata": {
        "colab": {
          "base_uri": "https://localhost:8080/",
          "height": 188,
          "referenced_widgets": [
            "4a268fba07c54fafa773cfe6e964231c",
            "66efc5948af44a9296ccd46a36f6b471",
            "42a6ba7ee77f4375aadd8f306fb53200",
            "45c86be80edb4db7a2db5ee40204178b",
            "3859c68870a74a8d89792e5f8a36c5fd",
            "115579d01278451492b3c07638d24844",
            "84fd64c3300c4aa48c5baf8912756324",
            "04f2f60194c04b968e3f58c0216f31e4",
            "edcd338ad4fe405a88d11396d8d4401a",
            "fd6a8e51529e4921a4be39190b2e6881",
            "c94d7e89d23d434d93dea594022f61d9"
          ]
        },
        "id": "db8f4a9b",
        "outputId": "956a81ea-9c08-4b1a-efd8-5de87d367da3"
      },
      "outputs": [
        {
          "output_type": "stream",
          "name": "stderr",
          "text": [
            "/usr/local/lib/python3.12/dist-packages/huggingface_hub/utils/_auth.py:94: UserWarning: \n",
            "The secret `HF_TOKEN` does not exist in your Colab secrets.\n",
            "To authenticate with the Hugging Face Hub, create a token in your settings tab (https://huggingface.co/settings/tokens), set it as secret in your Google Colab and restart your session.\n",
            "You will be able to reuse this secret in all of your notebooks.\n",
            "Please note that authentication is recommended but still optional to access public models or datasets.\n",
            "  warnings.warn(\n",
            "`torch_dtype` is deprecated! Use `dtype` instead!\n"
          ]
        },
        {
          "output_type": "display_data",
          "data": {
            "text/plain": [
              "Loading checkpoint shards:   0%|          | 0/4 [00:00<?, ?it/s]"
            ],
            "application/vnd.jupyter.widget-view+json": {
              "version_major": 2,
              "version_minor": 0,
              "model_id": "4a268fba07c54fafa773cfe6e964231c"
            }
          },
          "metadata": {}
        }
      ],
      "source": [
        "model_name_qwen = \"Qwen/Qwen2-7B-Instruct\"\n",
        "bnb_config = BitsAndBytesConfig(\n",
        "    load_in_4bit=True,\n",
        "    bnb_4bit_use_double_quant=True,\n",
        "    bnb_4bit_quant_type=\"nf4\",\n",
        "    bnb_4bit_compute_dtype=torch.bfloat16\n",
        ")\n",
        "\n",
        "tokenizer_qwen = AutoTokenizer.from_pretrained(model_name_qwen, padding_side='left')\n",
        "tokenizer_qwen.pad_token = tokenizer_qwen.eos_token\n",
        "\n",
        "model_qwen = AutoModelForCausalLM.from_pretrained(\n",
        "    model_name_qwen,\n",
        "    quantization_config=bnb_config,\n",
        "    device_map=\"auto\",\n",
        "    torch_dtype=torch.bfloat16,\n",
        "    trust_remote_code=True\n",
        ")\n",
        "\n",
        "def generate_response_qwen_batch(prompts, max_new_tokens=50, temperature=0.1):\n",
        "    inputs = tokenizer_qwen(prompts, return_tensors=\"pt\", truncation=True, padding=True, max_length=512).to(\"cuda\")\n",
        "    with torch.no_grad():\n",
        "        outputs = model_qwen.generate(\n",
        "            **inputs,\n",
        "            max_new_tokens=max_new_tokens,\n",
        "            temperature=temperature,\n",
        "            do_sample=True,\n",
        "            pad_token_id=tokenizer_qwen.eos_token_id,\n",
        "            eos_token_id=tokenizer_qwen.eos_token_id\n",
        "        )\n",
        "    responses = [tokenizer_qwen.decode(out[inputs['input_ids'].shape[1]:], skip_special_tokens=True).strip() for out in outputs]\n",
        "    return responses"
      ]
    },
    {
      "cell_type": "code",
      "execution_count": 8,
      "id": "b2bab553",
      "metadata": {
        "id": "b2bab553"
      },
      "outputs": [],
      "source": [
        "def create_prompt(review_text):\n",
        "    return f\"\"\"Ты эксперт по классификации отзывов на маркетплейсе. Категории: {categories_str}.\n",
        "\n",
        "Правила:\n",
        "- Выбери ОДНУ категорию. Если товар не упомянут или неясно — \"нет товара\".\n",
        "- Ключевые слова: одежда (блузка, юбка, ткань, швы); обувь (ботинки, кроссовки); бытовая техника (стиралка, холодильник); посуда (тарелки, кастрюли); текстиль (постельное, шарфы); товары для детей (игрушки, коляска); украшения и аксессуары (кольца, сумки); электроника (телефон, наушники).\n",
        "- Игнорируй доставку/эмоции, фокус на товаре.\n",
        "- Ответ: ТОЛЬКО название категории.\n",
        "\n",
        "Отзыв: {review_text}\n",
        "Категория:\"\"\""
      ]
    },
    {
      "cell_type": "code",
      "execution_count": 9,
      "id": "2926548a",
      "metadata": {
        "colab": {
          "base_uri": "https://localhost:8080/"
        },
        "id": "2926548a",
        "outputId": "afee251e-21a4-4b9b-e155-9500048b513a"
      },
      "outputs": [
        {
          "output_type": "stream",
          "name": "stdout",
          "text": [
            "Разметили 32/364\n",
            "Разметили 64/364\n",
            "Разметили 96/364\n",
            "Разметили 128/364\n",
            "Разметили 160/364\n",
            "Разметили 192/364\n",
            "Разметили 224/364\n",
            "Разметили 256/364\n",
            "Разметили 288/364\n",
            "Разметили 320/364\n",
            "Разметили 352/364\n",
            "Разметили 364/364\n",
            "Среднее время разметки train (подвыборка): 3.03 сек\n",
            "Разметка готова\n"
          ]
        }
      ],
      "source": [
        "train_subset = train_df.sample(frac=0.2, random_state=42)  # ~2000 примеров\n",
        "train_labels = []\n",
        "start_time = time.time()\n",
        "batch_size = 32\n",
        "\n",
        "for i in range(0, len(train_subset), batch_size):\n",
        "    batch = train_subset['text'][i:i+batch_size].tolist()\n",
        "    prompts = [create_prompt(text) for text in batch]\n",
        "    batch_responses = generate_response_qwen_batch(prompts)\n",
        "    batch_labels = [re.search(r'(бытовая техника|обувь|одежда|посуда|текстиль|товары для детей|украшения и аксессуары|электроника|нет товара)', resp).group(0) if re.search(r'(бытовая техника|обувь|одежда|посуда|текстиль|товары для детей|украшения и аксессуары|электроника|нет товара)', resp) else \"нет товара\" for resp in batch_responses]\n",
        "    train_labels.extend(batch_labels)\n",
        "    print(f\"Разметили {i+len(batch)}/{len(train_subset)}\")\n",
        "\n",
        "avg_time_label = (time.time() - start_time) / len(train_subset)\n",
        "print(f\"Среднее время разметки train (подвыборка): {avg_time_label:.2f} сек\")\n",
        "\n",
        "train_subset['label'] = train_labels\n",
        "train_df = train_subset.copy()  # Для совместимости с остальным кодом\n",
        "train_df.to_csv('train_labeled.csv', index=False)\n",
        "\n",
        "# Валидация на holdout (10% подвыборки)\n",
        "holdout = train_df.sample(frac=0.1, random_state=42)\n",
        "print(\"Разметка готова\")"
      ]
    },
    {
      "cell_type": "markdown",
      "id": "0e0f2647",
      "metadata": {
        "id": "0e0f2647"
      },
      "source": [
        "## Аугментация Few-Shot Примеров\n",
        "Выберем 12+ примеров (баланс) и аугментируем парафразами."
      ]
    },
    {
      "cell_type": "code",
      "source": [
        "def generate_response_qwen_single(prompt, max_new_tokens=100, temperature=0.1):\n",
        "    inputs = tokenizer_qwen([prompt], return_tensors=\"pt\", truncation=True, padding=True, max_length=512).to(\"cuda\")\n",
        "    with torch.no_grad():\n",
        "        outputs = model_qwen.generate(\n",
        "            **inputs,\n",
        "            max_new_tokens=max_new_tokens,\n",
        "            temperature=temperature,\n",
        "            do_sample=True,\n",
        "            pad_token_id=tokenizer_qwen.eos_token_id,\n",
        "            eos_token_id=tokenizer_qwen.eos_token_id\n",
        "        )\n",
        "    response = tokenizer_qwen.decode(outputs[0][inputs['input_ids'].shape[1]:], skip_special_tokens=True).strip()\n",
        "    return response"
      ],
      "metadata": {
        "id": "4qAsAQbDg2Lk"
      },
      "id": "4qAsAQbDg2Lk",
      "execution_count": 12,
      "outputs": []
    },
    {
      "cell_type": "code",
      "execution_count": 13,
      "id": "050928be",
      "metadata": {
        "id": "050928be",
        "colab": {
          "base_uri": "https://localhost:8080/"
        },
        "outputId": "d401ef47-fde8-4445-d953-b84d5b44631a"
      },
      "outputs": [
        {
          "output_type": "stream",
          "name": "stderr",
          "text": [
            "/tmp/ipython-input-2031110604.py:1: DeprecationWarning: DataFrameGroupBy.apply operated on the grouping columns. This behavior is deprecated, and in a future version of pandas the grouping columns will be excluded from the operation. Either pass `include_groups=False` to exclude the groupings or explicitly select the grouping columns after groupby to silence this warning.\n",
            "  few_shot_df = train_df.groupby('label').apply(lambda x: x.sample(min(2, len(x)), random_state=42)).reset_index(drop=True)\n"
          ]
        },
        {
          "output_type": "stream",
          "name": "stdout",
          "text": [
            "Few-shot готов. Примеров: 36\n"
          ]
        }
      ],
      "source": [
        "few_shot_df = train_df.groupby('label').apply(lambda x: x.sample(min(2, len(x)), random_state=42)).reset_index(drop=True)\n",
        "few_shot_examples = few_shot_df.to_dict('records')[:12]  # Топ-12\n",
        "\n",
        "# Парафразинг\n",
        "def paraphrase_example(example_text):\n",
        "    para_prompt = f\"Перефразируй этот отзыв, сохраняя смысл и ключевые слова: {example_text}\"\n",
        "    para_text = generate_response_qwen_single(para_prompt, max_new_tokens=100)\n",
        "    return para_text\n",
        "\n",
        "augmented_examples = []\n",
        "for ex in few_shot_examples:\n",
        "    augmented_examples.append({'text': ex['text'], 'label': ex['label']})\n",
        "    for _ in range(2):  # 2 парафраза\n",
        "        para_text = paraphrase_example(ex['text'])\n",
        "        augmented_examples.append({'text': para_text, 'label': ex['label']})\n",
        "\n",
        "few_shot_str = \"\\n\".join([f\"Отзыв: {ex['text']}\\nКатегория: {ex['label']}\\n\" for ex in augmented_examples[:12]])\n",
        "print(\"Few-shot готов. Примеров:\", len(augmented_examples))"
      ]
    },
    {
      "cell_type": "markdown",
      "id": "7288d51e",
      "metadata": {
        "id": "7288d51e"
      },
      "source": [
        "## Промпт-Инжиниринг (Few-Shot CoT для Test)"
      ]
    },
    {
      "cell_type": "code",
      "execution_count": null,
      "id": "5c243c00",
      "metadata": {
        "id": "5c243c00",
        "colab": {
          "base_uri": "https://localhost:8080/"
        },
        "outputId": "24d88fbc-3f4e-454a-93f4-c82f9a45cb91"
      },
      "outputs": [
        {
          "output_type": "stream",
          "name": "stdout",
          "text": [
            "Классифицировали 64/7277\n",
            "Классифицировали 128/7277\n",
            "Классифицировали 192/7277\n",
            "Классифицировали 256/7277\n",
            "Классифицировали 320/7277\n"
          ]
        }
      ],
      "source": [
        "def create_prompt(review_text):\n",
        "    return f\"\"\"Ты эксперт по классификации отзывов на маркетплейсе. Категории: {categories_str}.\n",
        "\n",
        "Правила:\n",
        "- Выбери ОДНУ категорию. Если товар не упомянут или неясно — \"нет товара\".\n",
        "- Ключевые слова: одежда (блузка, юбка, ткань, швы); обувь (ботинки, кроссовки); бытовая техника (стиралка, холодильник); посуда (тарелки, кастрюли); текстиль (постельное, шарфы); товары для детей (игрушки, коляска); украшения и аксессуары (кольца, сумки); электроника (телефон, наушники).\n",
        "- Игнорируй доставку/эмоции, фокус на товаре.\n",
        "- Ответ: ТОЛЬКО название категории.\n",
        "\n",
        "Отзыв: {review_text}\n",
        "Категория:\"\"\"\n",
        "\n",
        "test_prompt_labels = []\n",
        "start_time = time.time()\n",
        "batch_size = 64  # Увеличено для скорости, проверяй VRAM\n",
        "\n",
        "torch.cuda.empty_cache()  # Очистка VRAM перед началом\n",
        "\n",
        "for i in range(0, len(test_df), batch_size):\n",
        "    batch = test_df['text'][i:i+batch_size].tolist()\n",
        "    prompts = [create_prompt(text) for text in batch]\n",
        "    batch_responses = generate_response_qwen_batch(prompts, max_new_tokens=10, temperature=0.1)  # Из ячейки 6\n",
        "    batch_labels = [\n",
        "        re.search(r'(бытовая техника|обувь|одежда|посуда|текстиль|товары для детей|украшения и аксессуары|электроника|нет товара)', resp).group(0)\n",
        "        if re.search(r'(бытовая техника|обувь|одежда|посуда|текстиль|товары для детей|украшения и аксессуары|электроника|нет товара)', resp)\n",
        "        else \"нет товара\"\n",
        "        for resp in batch_responses\n",
        "    ]\n",
        "    test_prompt_labels.extend(batch_labels)\n",
        "    print(f\"Классифицировали {i+len(batch)}/{len(test_df)}\")\n",
        "    torch.cuda.empty_cache()  # Очистка VRAM после батча\n",
        "\n",
        "avg_time_prompt = (time.time() - start_time) / len(test_df)\n",
        "print(f\"Среднее время промпт на test: {avg_time_prompt:.2f} сек\")\n",
        "test_df['predicted_category_prompt'] = test_prompt_labels\n",
        "\n",
        "# Сохранение промежуточных результатов (на случай сбоя)\n",
        "test_df[['text', 'predicted_category_prompt']].to_csv('test_prompt_temp.csv', index=False)\n",
        "print(\"Промежуточные результаты сохранены в test_prompt_temp.csv\")"
      ]
    },
    {
      "cell_type": "markdown",
      "id": "c8698a57",
      "metadata": {
        "id": "c8698a57"
      },
      "source": [
        "## Fine-Tune BERT (Google Multilingual) — Опционально для Топ-F1\n",
        "Заменит промпт на supervised модель. Валидация только на holdout из train."
      ]
    },
    {
      "cell_type": "code",
      "execution_count": null,
      "id": "80441657",
      "metadata": {
        "id": "80441657"
      },
      "outputs": [],
      "source": [
        "# Подготовка данных для BERT (только train)\n",
        "le = LabelEncoder()\n",
        "train_df['label_id'] = le.fit_transform(train_df['label'])\n",
        "num_labels = len(le.classes_)\n",
        "\n",
        "train_split, val_split = train_test_split(train_df, test_size=0.1, stratify=train_df['label_id'], random_state=42)\n",
        "train_dataset = Dataset.from_pandas(train_split[['text', 'label_id']])\n",
        "val_dataset = Dataset.from_pandas(val_split[['text', 'label_id']])\n",
        "\n",
        "# Аугментация: Шум в train\n",
        "def augment_text(text):\n",
        "    words = text.split()\n",
        "    if len(words) > 3 and np.random.rand() > 0.5:\n",
        "        np.random.shuffle(words)\n",
        "        return ' '.join(words)\n",
        "    return text\n",
        "\n",
        "train_dataset = train_dataset.map(lambda x: {'text': augment_text(x['text'])})\n",
        "model_name_bert = \"google-bert/bert-base-multilingual-cased\"\n",
        "tokenizer_bert = AutoTokenizer.from_pretrained(model_name_bert)\n",
        "if tokenizer_bert.pad_token is None:\n",
        "    tokenizer_bert.pad_token = tokenizer_bert.unk_token\n",
        "\n",
        "def tokenize_function(examples):\n",
        "    return tokenizer_bert(examples['text'], truncation=True, padding=True, max_length=256)\n",
        "\n",
        "train_dataset = train_dataset.map(tokenize_function, batched=True)\n",
        "val_dataset = val_dataset.map(tokenize_function, batched=True)\n",
        "train_dataset.set_format('torch', columns=['input_ids', 'attention_mask', 'label_id'])\n",
        "val_dataset.set_format('torch', columns=['input_ids', 'attention_mask', 'label_id'])"
      ]
    },
    {
      "cell_type": "code",
      "execution_count": null,
      "id": "0f7f8805",
      "metadata": {
        "id": "0f7f8805"
      },
      "outputs": [],
      "source": [
        "# Модель BERT + LoRA\n",
        "model_bert = AutoModelForSequenceClassification.from_pretrained(\n",
        "    model_name_bert,\n",
        "    num_labels=num_labels,\n",
        "    id2label={i: label for i, label in enumerate(le.classes_)},\n",
        "    label2id={label: i for i, label in enumerate(le.classes_)}\n",
        ")\n",
        "\n",
        "lora_config = LoraConfig(\n",
        "    task_type=TaskType.SEQ_CLS,\n",
        "    r=8,\n",
        "    lora_alpha=16,\n",
        "    lora_dropout=0.1,\n",
        "    target_modules=[\"query\", \"value\"]\n",
        ")\n",
        "model_bert = get_peft_model(model_bert, lora_config)\n",
        "\n",
        "data_collator = DataCollatorWithPadding(tokenizer=tokenizer_bert)\n",
        "\n",
        "metric = evaluate.load(\"f1\")\n",
        "def compute_metrics(eval_pred):\n",
        "    predictions, labels = eval_pred\n",
        "    predictions = np.argmax(predictions, axis=1)\n",
        "    return metric.compute(predictions=predictions, references=labels, average=\"weighted\")"
      ]
    },
    {
      "cell_type": "code",
      "execution_count": null,
      "id": "dc1b2875",
      "metadata": {
        "id": "dc1b2875"
      },
      "outputs": [],
      "source": [
        "# Training\n",
        "training_args = TrainingArguments(\n",
        "    output_dir=\"./bert-finetuned\",\n",
        "    num_train_epochs=2,\n",
        "    per_device_train_batch_size=16,\n",
        "    per_device_eval_batch_size=16,\n",
        "    warmup_steps=500,\n",
        "    weight_decay=0.01,\n",
        "    evaluation_strategy=\"epoch\",\n",
        "    save_strategy=\"epoch\",\n",
        "    load_best_model_at_end=True,\n",
        "    metric_for_best_model=\"eval_f1\",\n",
        "    greater_is_better=True,\n",
        "    report_to=\"none\"\n",
        ")\n",
        "\n",
        "trainer = Trainer(\n",
        "    model=model_bert,\n",
        "    args=training_args,\n",
        "    train_dataset=train_dataset,\n",
        "    eval_dataset=val_dataset,\n",
        "    tokenizer=tokenizer_bert,\n",
        "    data_collator=data_collator,\n",
        "    compute_metrics=compute_metrics\n",
        ")\n",
        "\n",
        "trainer.train()\n",
        "val_results = trainer.evaluate()\n",
        "print(f\"Валидационный Weighted F1 (holdout из train): {val_results['eval_f1']:.4f}\")\n",
        "\n",
        "trainer.save_model(\"./bert-final\")\n",
        "tokenizer_bert.save_pretrained(\"./bert-final\")"
      ]
    },
    {
      "cell_type": "markdown",
      "id": "cb6bfc1d",
      "metadata": {
        "id": "cb6bfc1d"
      },
      "source": [
        "## Инференс на Test + Submission\n",
        "'prompt' или 'bert' (по умолчанию BERT, если обучен)."
      ]
    },
    {
      "cell_type": "code",
      "execution_count": null,
      "id": "8e98e065",
      "metadata": {
        "id": "8e98e065"
      },
      "outputs": [],
      "source": [
        "method = 'bert'  # Или 'prompt'\n",
        "\n",
        "if method == 'bert':\n",
        "    classifier = pipeline(\"text-classification\", model=\"./bert-final\", tokenizer=\"./bert-final\", device=0)\n",
        "    def classify_bert(text):\n",
        "        result = classifier(text)\n",
        "        pred_id = int(result[0]['label'].split('_')[-1]) if '_' in result[0]['label'] else int(result[0]['label'])\n",
        "        return le.classes_[pred_id]\n",
        "\n",
        "    start_time = time.time()\n",
        "    test_df['predicted_category'] = test_df['text'].apply(classify_bert)\n",
        "    avg_time_bert = (time.time() - start_time) / len(test_df)\n",
        "    print(f\"Среднее время BERT на test: {avg_time_bert:.2f} сек\")\n",
        "else:  # Промпт\n",
        "    test_df['predicted_category'] = test_df['predicted_category_prompt']\n",
        "    print(f\"Используем промпт. Время: {avg_time_prompt:.2f} сек\")\n",
        "\n",
        "# Submission CSV (формат: category\\npred1\\n...)\n",
        "test_df[['predicted_category']].to_csv('submission.csv', index=False, header=False)\n",
        "print(\"\\nsubmission.csv готов! Статистика:\")\n",
        "print(test_df['predicted_category'].value_counts())\n",
        "\n",
        "# Пример валидации на holdout (если есть manual_labels)\n",
        "# f1_final = f1_score(manual_labels, holdout['predicted_category'].tolist()[:len(manual_labels)], average='weighted')\n",
        "# print(f\"Примерный F1: {f1_final}\")\n",
        "print(\"Готово! Скачай submission.csv.\")"
      ]
    }
  ],
  "metadata": {
    "accelerator": "GPU",
    "colab": {
      "gpuType": "T4",
      "provenance": []
    },
    "kernelspec": {
      "display_name": "Python 3",
      "name": "python3"
    },
    "language_info": {
      "name": "python"
    },
    "widgets": {
      "application/vnd.jupyter.widget-state+json": {
        "4a268fba07c54fafa773cfe6e964231c": {
          "model_module": "@jupyter-widgets/controls",
          "model_name": "HBoxModel",
          "model_module_version": "1.5.0",
          "state": {
            "_dom_classes": [],
            "_model_module": "@jupyter-widgets/controls",
            "_model_module_version": "1.5.0",
            "_model_name": "HBoxModel",
            "_view_count": null,
            "_view_module": "@jupyter-widgets/controls",
            "_view_module_version": "1.5.0",
            "_view_name": "HBoxView",
            "box_style": "",
            "children": [
              "IPY_MODEL_66efc5948af44a9296ccd46a36f6b471",
              "IPY_MODEL_42a6ba7ee77f4375aadd8f306fb53200",
              "IPY_MODEL_45c86be80edb4db7a2db5ee40204178b"
            ],
            "layout": "IPY_MODEL_3859c68870a74a8d89792e5f8a36c5fd"
          }
        },
        "66efc5948af44a9296ccd46a36f6b471": {
          "model_module": "@jupyter-widgets/controls",
          "model_name": "HTMLModel",
          "model_module_version": "1.5.0",
          "state": {
            "_dom_classes": [],
            "_model_module": "@jupyter-widgets/controls",
            "_model_module_version": "1.5.0",
            "_model_name": "HTMLModel",
            "_view_count": null,
            "_view_module": "@jupyter-widgets/controls",
            "_view_module_version": "1.5.0",
            "_view_name": "HTMLView",
            "description": "",
            "description_tooltip": null,
            "layout": "IPY_MODEL_115579d01278451492b3c07638d24844",
            "placeholder": "​",
            "style": "IPY_MODEL_84fd64c3300c4aa48c5baf8912756324",
            "value": "Loading checkpoint shards: 100%"
          }
        },
        "42a6ba7ee77f4375aadd8f306fb53200": {
          "model_module": "@jupyter-widgets/controls",
          "model_name": "FloatProgressModel",
          "model_module_version": "1.5.0",
          "state": {
            "_dom_classes": [],
            "_model_module": "@jupyter-widgets/controls",
            "_model_module_version": "1.5.0",
            "_model_name": "FloatProgressModel",
            "_view_count": null,
            "_view_module": "@jupyter-widgets/controls",
            "_view_module_version": "1.5.0",
            "_view_name": "ProgressView",
            "bar_style": "success",
            "description": "",
            "description_tooltip": null,
            "layout": "IPY_MODEL_04f2f60194c04b968e3f58c0216f31e4",
            "max": 4,
            "min": 0,
            "orientation": "horizontal",
            "style": "IPY_MODEL_edcd338ad4fe405a88d11396d8d4401a",
            "value": 4
          }
        },
        "45c86be80edb4db7a2db5ee40204178b": {
          "model_module": "@jupyter-widgets/controls",
          "model_name": "HTMLModel",
          "model_module_version": "1.5.0",
          "state": {
            "_dom_classes": [],
            "_model_module": "@jupyter-widgets/controls",
            "_model_module_version": "1.5.0",
            "_model_name": "HTMLModel",
            "_view_count": null,
            "_view_module": "@jupyter-widgets/controls",
            "_view_module_version": "1.5.0",
            "_view_name": "HTMLView",
            "description": "",
            "description_tooltip": null,
            "layout": "IPY_MODEL_fd6a8e51529e4921a4be39190b2e6881",
            "placeholder": "​",
            "style": "IPY_MODEL_c94d7e89d23d434d93dea594022f61d9",
            "value": " 4/4 [01:38&lt;00:00, 22.94s/it]"
          }
        },
        "3859c68870a74a8d89792e5f8a36c5fd": {
          "model_module": "@jupyter-widgets/base",
          "model_name": "LayoutModel",
          "model_module_version": "1.2.0",
          "state": {
            "_model_module": "@jupyter-widgets/base",
            "_model_module_version": "1.2.0",
            "_model_name": "LayoutModel",
            "_view_count": null,
            "_view_module": "@jupyter-widgets/base",
            "_view_module_version": "1.2.0",
            "_view_name": "LayoutView",
            "align_content": null,
            "align_items": null,
            "align_self": null,
            "border": null,
            "bottom": null,
            "display": null,
            "flex": null,
            "flex_flow": null,
            "grid_area": null,
            "grid_auto_columns": null,
            "grid_auto_flow": null,
            "grid_auto_rows": null,
            "grid_column": null,
            "grid_gap": null,
            "grid_row": null,
            "grid_template_areas": null,
            "grid_template_columns": null,
            "grid_template_rows": null,
            "height": null,
            "justify_content": null,
            "justify_items": null,
            "left": null,
            "margin": null,
            "max_height": null,
            "max_width": null,
            "min_height": null,
            "min_width": null,
            "object_fit": null,
            "object_position": null,
            "order": null,
            "overflow": null,
            "overflow_x": null,
            "overflow_y": null,
            "padding": null,
            "right": null,
            "top": null,
            "visibility": null,
            "width": null
          }
        },
        "115579d01278451492b3c07638d24844": {
          "model_module": "@jupyter-widgets/base",
          "model_name": "LayoutModel",
          "model_module_version": "1.2.0",
          "state": {
            "_model_module": "@jupyter-widgets/base",
            "_model_module_version": "1.2.0",
            "_model_name": "LayoutModel",
            "_view_count": null,
            "_view_module": "@jupyter-widgets/base",
            "_view_module_version": "1.2.0",
            "_view_name": "LayoutView",
            "align_content": null,
            "align_items": null,
            "align_self": null,
            "border": null,
            "bottom": null,
            "display": null,
            "flex": null,
            "flex_flow": null,
            "grid_area": null,
            "grid_auto_columns": null,
            "grid_auto_flow": null,
            "grid_auto_rows": null,
            "grid_column": null,
            "grid_gap": null,
            "grid_row": null,
            "grid_template_areas": null,
            "grid_template_columns": null,
            "grid_template_rows": null,
            "height": null,
            "justify_content": null,
            "justify_items": null,
            "left": null,
            "margin": null,
            "max_height": null,
            "max_width": null,
            "min_height": null,
            "min_width": null,
            "object_fit": null,
            "object_position": null,
            "order": null,
            "overflow": null,
            "overflow_x": null,
            "overflow_y": null,
            "padding": null,
            "right": null,
            "top": null,
            "visibility": null,
            "width": null
          }
        },
        "84fd64c3300c4aa48c5baf8912756324": {
          "model_module": "@jupyter-widgets/controls",
          "model_name": "DescriptionStyleModel",
          "model_module_version": "1.5.0",
          "state": {
            "_model_module": "@jupyter-widgets/controls",
            "_model_module_version": "1.5.0",
            "_model_name": "DescriptionStyleModel",
            "_view_count": null,
            "_view_module": "@jupyter-widgets/base",
            "_view_module_version": "1.2.0",
            "_view_name": "StyleView",
            "description_width": ""
          }
        },
        "04f2f60194c04b968e3f58c0216f31e4": {
          "model_module": "@jupyter-widgets/base",
          "model_name": "LayoutModel",
          "model_module_version": "1.2.0",
          "state": {
            "_model_module": "@jupyter-widgets/base",
            "_model_module_version": "1.2.0",
            "_model_name": "LayoutModel",
            "_view_count": null,
            "_view_module": "@jupyter-widgets/base",
            "_view_module_version": "1.2.0",
            "_view_name": "LayoutView",
            "align_content": null,
            "align_items": null,
            "align_self": null,
            "border": null,
            "bottom": null,
            "display": null,
            "flex": null,
            "flex_flow": null,
            "grid_area": null,
            "grid_auto_columns": null,
            "grid_auto_flow": null,
            "grid_auto_rows": null,
            "grid_column": null,
            "grid_gap": null,
            "grid_row": null,
            "grid_template_areas": null,
            "grid_template_columns": null,
            "grid_template_rows": null,
            "height": null,
            "justify_content": null,
            "justify_items": null,
            "left": null,
            "margin": null,
            "max_height": null,
            "max_width": null,
            "min_height": null,
            "min_width": null,
            "object_fit": null,
            "object_position": null,
            "order": null,
            "overflow": null,
            "overflow_x": null,
            "overflow_y": null,
            "padding": null,
            "right": null,
            "top": null,
            "visibility": null,
            "width": null
          }
        },
        "edcd338ad4fe405a88d11396d8d4401a": {
          "model_module": "@jupyter-widgets/controls",
          "model_name": "ProgressStyleModel",
          "model_module_version": "1.5.0",
          "state": {
            "_model_module": "@jupyter-widgets/controls",
            "_model_module_version": "1.5.0",
            "_model_name": "ProgressStyleModel",
            "_view_count": null,
            "_view_module": "@jupyter-widgets/base",
            "_view_module_version": "1.2.0",
            "_view_name": "StyleView",
            "bar_color": null,
            "description_width": ""
          }
        },
        "fd6a8e51529e4921a4be39190b2e6881": {
          "model_module": "@jupyter-widgets/base",
          "model_name": "LayoutModel",
          "model_module_version": "1.2.0",
          "state": {
            "_model_module": "@jupyter-widgets/base",
            "_model_module_version": "1.2.0",
            "_model_name": "LayoutModel",
            "_view_count": null,
            "_view_module": "@jupyter-widgets/base",
            "_view_module_version": "1.2.0",
            "_view_name": "LayoutView",
            "align_content": null,
            "align_items": null,
            "align_self": null,
            "border": null,
            "bottom": null,
            "display": null,
            "flex": null,
            "flex_flow": null,
            "grid_area": null,
            "grid_auto_columns": null,
            "grid_auto_flow": null,
            "grid_auto_rows": null,
            "grid_column": null,
            "grid_gap": null,
            "grid_row": null,
            "grid_template_areas": null,
            "grid_template_columns": null,
            "grid_template_rows": null,
            "height": null,
            "justify_content": null,
            "justify_items": null,
            "left": null,
            "margin": null,
            "max_height": null,
            "max_width": null,
            "min_height": null,
            "min_width": null,
            "object_fit": null,
            "object_position": null,
            "order": null,
            "overflow": null,
            "overflow_x": null,
            "overflow_y": null,
            "padding": null,
            "right": null,
            "top": null,
            "visibility": null,
            "width": null
          }
        },
        "c94d7e89d23d434d93dea594022f61d9": {
          "model_module": "@jupyter-widgets/controls",
          "model_name": "DescriptionStyleModel",
          "model_module_version": "1.5.0",
          "state": {
            "_model_module": "@jupyter-widgets/controls",
            "_model_module_version": "1.5.0",
            "_model_name": "DescriptionStyleModel",
            "_view_count": null,
            "_view_module": "@jupyter-widgets/base",
            "_view_module_version": "1.2.0",
            "_view_name": "StyleView",
            "description_width": ""
          }
        }
      }
    }
  },
  "nbformat": 4,
  "nbformat_minor": 5
}