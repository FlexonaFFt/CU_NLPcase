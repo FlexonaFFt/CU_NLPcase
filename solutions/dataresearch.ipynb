{
  "cells": [
    {
      "cell_type": "code",
      "execution_count": 1,
      "id": "6f213d61",
      "metadata": {
        "id": "6f213d61",
        "vscode": {
          "languageId": "plaintext"
        }
      },
      "outputs": [],
      "source": [
        "!pip install -q transformers torch datasets pandas scikit-learn accelerate bitsandbytes peft fuzzywuzzy python-levenshtein"
      ]
    },
    {
      "cell_type": "code",
      "execution_count": 2,
      "id": "11c665ca",
      "metadata": {
        "id": "11c665ca"
      },
      "outputs": [],
      "source": [
        "import pandas as pd\n",
        "import numpy as np\n",
        "import torch\n",
        "from transformers import AutoTokenizer, AutoModelForCausalLM, BitsAndBytesConfig\n",
        "from datasets import Dataset\n",
        "from sklearn.model_selection import train_test_split\n",
        "from sklearn.metrics import f1_score\n",
        "import time\n",
        "import re\n",
        "import logging\n",
        "from fuzzywuzzy import fuzz\n",
        "import warnings\n",
        "warnings.filterwarnings('ignore')"
      ]
    },
    {
      "cell_type": "code",
      "execution_count": 3,
      "id": "44c710e6",
      "metadata": {
        "colab": {
          "base_uri": "https://localhost:8080/"
        },
        "id": "44c710e6",
        "outputId": "f2c8a1e2-9dd6-4623-e70c-70eb85c3b386"
      },
      "outputs": [
        {
          "name": "stdout",
          "output_type": "stream",
          "text": [
            "Категории: ['бытовая техника', 'обувь', 'одежда', 'посуда', 'текстиль', 'товары для детей', 'украшения и аксессуары', 'электроника', 'нет товара']\n",
            "Train shape: (1818, 1)\n",
            "Test shape: (7276, 1)\n",
            "\n",
            "Примеры из train:\n",
            "['Заказали 14.10.2017 , получили 25.10.2017 \\r\\nНа мой размер 42, широкий как мешок. Надо было все таки размер  S заказать. \\r\\nПо поводу качества хороший пуховик. \\r\\nМех натуральный , съемный. \\r\\nБуду продавать .', 'футболка хорошего качества,но футболка не как для девушек и женщин,а как на мужчину. она очень свободная. на свой М, заказала Л. теперь не знаю что делать,ибо она мне велика, даже моему папе она полезет.', 'Все отлично!!!']\n",
            "NaN в train: 0\n",
            "Train после удаления дубликатов: (1818, 1)\n"
          ]
        }
      ],
      "source": [
        "train_df = pd.read_csv('data/train.csv')\n",
        "test_df = pd.read_csv('data/test.csv')\n",
        "with open('data/categories.txt', 'r', encoding='utf-8') as f:\n",
        "    categories = [line.strip() for line in f.readlines()]\n",
        "\n",
        "print(f\"Категории: {categories}\")\n",
        "print(f\"Train shape: {train_df.shape}\")\n",
        "print(f\"Test shape: {test_df.shape}\")\n",
        "\n",
        "# Осмотр train\n",
        "print(\"\\nПримеры из train:\")\n",
        "print(train_df['text'].head(3).tolist())\n",
        "\n",
        "# Проверка на NaN и дубликаты\n",
        "print(f\"NaN в train: {train_df.isnull().sum().sum()}\")\n",
        "train_df.drop_duplicates(subset=['text'], inplace=True)\n",
        "print(f\"Train после удаления дубликатов: {train_df.shape}\")"
      ]
    },
    {
      "cell_type": "code",
      "execution_count": 4,
      "id": "78104fd1",
      "metadata": {
        "colab": {
          "base_uri": "https://localhost:8080/"
        },
        "id": "78104fd1",
        "outputId": "39fd9648-c08d-4d17-a50d-26a6a1e3ab97"
      },
      "outputs": [
        {
          "name": "stdout",
          "output_type": "stream",
          "text": [
            "Train после предобработки: (1803, 2)\n",
            "\n",
            "Примеры очищенных текстов:\n",
            "['заказали 14.10.2017 , получили 25.10.2017 на мой размер 42, широкий как мешок. надо было все таки размер s заказать. по поводу качества хороший пуховик. мех натуральный , съемный. буду продавать .', 'футболка хорошего качества,но футболка не как для девушек и женщин,а как на мужчину. она очень свободная. на свой м, заказала л. теперь не знаю что делать,ибо она мне велика, даже моему папе она полезет.', 'все отлично!!!']\n"
          ]
        }
      ],
      "source": [
        "def preprocess_text(text):\n",
        "    if pd.isna(text):\n",
        "        return \"\"\n",
        "    text = text.lower()\n",
        "    text = re.sub(r'\\s+', ' ', text.strip())\n",
        "    text = re.sub(r'[^\\w\\s.,!?—–-]', ' ', text)\n",
        "    if len(text) < 10:\n",
        "        return \"\"\n",
        "    return text\n",
        "\n",
        "# Применение предобработки\n",
        "train_df['text_clean'] = train_df['text'].apply(preprocess_text)\n",
        "test_df['text_clean'] = test_df['text'].apply(preprocess_text)\n",
        "\n",
        "# Удаление пустых после очистки\n",
        "train_df = train_df[train_df['text_clean'] != ''].reset_index(drop=True)\n",
        "test_df = test_df[test_df['text_clean'] != ''].reset_index(drop=True)\n",
        "\n",
        "print(f\"Train после предобработки: {train_df.shape}\")\n",
        "print(\"\\nПримеры очищенных текстов:\")\n",
        "print(train_df['text_clean'].head(3).tolist())"
      ]
    },
    {
      "cell_type": "code",
      "execution_count": 5,
      "id": "b98583c9",
      "metadata": {
        "colab": {
          "base_uri": "https://localhost:8080/"
        },
        "id": "b98583c9",
        "outputId": "9417ca50-3e5d-4d19-ea1f-277125c973e8"
      },
      "outputs": [
        {
          "name": "stderr",
          "output_type": "stream",
          "text": [
            "`torch_dtype` is deprecated! Use `dtype` instead!\n"
          ]
        },
        {
          "name": "stdout",
          "output_type": "stream",
          "text": [
            "VRAM в использовании: 1.06 GB\n",
            "Модель загружена на cuda. Размер: 1.4B параметров\n"
          ]
        }
      ],
      "source": [
        "# Модель для разметки (mGPT от Sber, открытая, русская)\n",
        "model_name = \"ai-forever/mGPT\"\n",
        "tokenizer = AutoTokenizer.from_pretrained(model_name)\n",
        "if tokenizer.pad_token is None:\n",
        "    tokenizer.pad_token = tokenizer.eos_token\n",
        "\n",
        "# 4-bit квантизация для T4 (экономит VRAM)\n",
        "quant_config = BitsAndBytesConfig(\n",
        "    load_in_4bit=True,\n",
        "    bnb_4bit_compute_dtype=torch.float16,\n",
        "    bnb_4bit_use_double_quant=True,\n",
        "    bnb_4bit_quant_type=\"nf4\"\n",
        ")\n",
        "\n",
        "device = \"cuda\" if torch.cuda.is_available() else \"cpu\"\n",
        "base_model = AutoModelForCausalLM.from_pretrained(\n",
        "    model_name,\n",
        "    quantization_config=quant_config,\n",
        "    device_map=\"auto\" if device == \"cuda\" else None,\n",
        "    trust_remote_code=False,\n",
        "    torch_dtype=torch.float16 if device == \"cuda\" else torch.float32\n",
        ")\n",
        "\n",
        "# Проверка загрузки\n",
        "if device == \"cuda\":\n",
        "    print(f\"VRAM в использовании: {torch.cuda.memory_allocated() / 1024**3:.2f} GB\")\n",
        "print(f\"Модель загружена на {device}. Размер: {base_model.num_parameters() / 1e9:.1f}B параметров\")"
      ]
    },
    {
      "cell_type": "code",
      "execution_count": null,
      "id": "86a70c57",
      "metadata": {
        "colab": {
          "base_uri": "https://localhost:8080/"
        },
        "id": "86a70c57",
        "outputId": "8c8ca42d-a0cd-45c6-ac33-30e2883e3887"
      },
      "outputs": [
        {
          "name": "stdout",
          "output_type": "stream",
          "text": [
            "Отзыв: заказали 14.10.2017 , получили 25.10.2017 на мой размер 42, широкий как мешок. надо было все таки ра...\n",
            "Предсказание: товары для детей\n",
            "Время классификации: 2.39 сек\n"
          ]
        }
      ],
      "source": [
        "logging.basicConfig(level=logging.INFO)\n",
        "logger = logging.getLogger(__name__)\n",
        "\n",
        "few_shot_examples = \"\"\"Ты классификатор отзывов по категориям товаров. Для каждого отзыва определи категорию из списка: бытовая техника, обувь, одежда, посуда, текстиль, товары для детей, украшения и аксессуары, электроника, нет товара. Следуй этим шагам:\n",
        "1. Прочитай отзыв.\n",
        "2. Найди ключевые слова, указывающие на товар (например, \"футболка\" → одежда, \"холодильник\" → бытовая техника).\n",
        "3. Если упоминаний товара нет (например, только про доставку или спор), выбери \"нет товара\".\n",
        "4. Выведи только название категории.\n",
        "\n",
        "Примеры:\n",
        "1. Отзыв: \"Футболка классная, но маловата, берите на размер больше.\" Категория: одежда\n",
        "2. Отзыв: \"Пуховик тёплый, мех натуральный, но велик.\" Категория: одежда\n",
        "3. Отзыв: \"Джинсы пришли с пятнами, качество так себе.\" Категория: одежда\n",
        "4. Отзыв: \"Кроссовки жмут, быстро износились.\" Категория: обувь\n",
        "5. Отзыв: \"Туфли не подошли, но доставка быстрая.\" Категория: обувь\n",
        "6. Отзыв: \"Ботинки тёплые, но швы кривые.\" Категория: обувь\n",
        "7. Отзыв: \"Холодильник шумит, но охлаждает нормально.\" Категория: бытовая техника\n",
        "8. Отзыв: \"Микроволновка быстро сломалась, спор не помог.\" Категория: бытовая техника\n",
        "9. Отзыв: \"Пылесос мощный, но тяжёлый.\" Категория: бытовая техника\n",
        "10. Отзыв: \"Тарелки красивые, но одна разбилась при доставке.\" Категория: посуда\n",
        "11. Отзыв: \"Кружка с трещиной, качество плохое.\" Категория: посуда\n",
        "12. Отзыв: \"Чайник керамический, но ручка шатается.\" Категория: посуда\n",
        "13. Отзыв: \"Полотенце мягкое, но быстро износилось.\" Категория: текстиль\n",
        "14. Отзыв: \"Шторы тонкие, просвечивают, не советую.\" Категория: текстиль\n",
        "15. Отзыв: \"Простыня приятная, но размер не подошёл.\" Категория: текстиль\n",
        "16. Отзыв: \"Игрушка яркая, ребёнку нравится.\" Категория: товары для детей\n",
        "17. Отзыв: \"Коляска сломалась через месяц.\" Категория: товары для детей\n",
        "18. Отзыв: \"Погремушка безопасная, но быстро надоела.\" Категория: товары для детей\n",
        "19. Отзыв: \"Серьги потемнели, выглядят дёшево.\" Категория: украшения и аксессуары\n",
        "20. Отзыв: \"Браслет красивый, но застёжка слабая.\" Категория: украшения и аксессуары\n",
        "21. Отзыв: \"Часы не работают, подделка.\" Категория: украшения и аксессуары\n",
        "22. Отзыв: \"Телефон быстро разряжается, не советую.\" Категория: электроника\n",
        "23. Отзыв: \"Наушники с плохим звуком, быстро сломались.\" Категория: электроника\n",
        "24. Отзыв: \"Чехол для телефона тонкий, но стильный.\" Категория: электроника\n",
        "25. Отзыв: \"Заказ не пришёл, деньги не вернули.\" Категория: нет товара\n",
        "26. Отзыв: \"Доставка три месяца, спор не помог.\" Категория: нет товара\n",
        "27. Отзыв: \"Товар не отслеживался, продавец не отвечает.\" Категория: нет товара\n",
        "\"\"\"\n",
        "\n",
        "keyword_map = {\n",
        "    \"одежда\": [\"футболка\", \"пуховик\", \"блузка\", \"юбка\", \"штаны\", \"джинсы\", \"свитер\", \"куртка\", \"платье\", \"кофта\", \"шорты\", \"рубашка\", \"комбинезон\", \"халат\", \"кардиган\", \"майка\", \"туника\", \"водолазка\", \"жилет\", \"пижама\", \"толстовка\"],\n",
        "    \"обувь\": [\"кроссовки\", \"туфли\", \"ботинки\", \"сапоги\", \"тапки\", \"сандалии\", \"кеды\"],\n",
        "    \"бытовая техника\": [\"холодильник\", \"микроволновка\", \"пылесос\", \"стиральная машина\", \"чайник\", \"утюг\", \"блендер\", \"фен\"],\n",
        "    \"посуда\": [\"тарелки\", \"кружка\", \"чашка\", \"ложка\", \"вилка\", \"нож\", \"кастрюля\", \"сковорода\", \"бокал\", \"чайник керамический\"],\n",
        "    \"текстиль\": [\"полотенце\", \"шторы\", \"постельное\", \"одеяло\", \"подушка\", \"скатерть\", \"простыня\", \"наволочка\"],\n",
        "    \"товары для детей\": [\"игрушка\", \"погремушка\", \"пеленка\", \"коляска\", \"кроватка\", \"памперс\"],\n",
        "    \"украшения и аксессуары\": [\"серьги\", \"браслет\", \"кольцо\", \"цепочка\", \"кулон\", \"часы\", \"ремень\", \"шарф\"],\n",
        "    \"электроника\": [\"телефон\", \"наушники\", \"планшет\", \"зарядка\", \"чехол\", \"кабель\", \"ноутбук\", \"клавиатура\"],\n",
        "    \"нет товара\": [\"доставка\", \"спор\", \"возврат\", \"не пришёл\", \"не дошло\", \"деньги\", \"задержка\", \"отслеживание\"]\n",
        "}\n",
        "\n",
        "def classify_review(text, model, tokenizer, categories, few_shot=few_shot_examples, device=\"cuda\"):\n",
        "    \"\"\"\n",
        "    Классифицирует отзыв по категории с использованием mGPT.\n",
        "    \"\"\"\n",
        "    try:\n",
        "        prompt = f\"\"\"{few_shot}\n",
        "Отзыв: \"{text}\"\n",
        "Категория:\"\"\"\n",
        "\n",
        "        # Токенизация\n",
        "        inputs = tokenizer(\n",
        "            prompt,\n",
        "            return_tensors=\"pt\",\n",
        "            padding=True,\n",
        "            truncation=True,\n",
        "            max_length=512,\n",
        "            return_attention_mask=True\n",
        "        ).to(device)\n",
        "\n",
        "        # Генерация\n",
        "        with torch.no_grad():\n",
        "            outputs = model.generate(\n",
        "                input_ids=inputs[\"input_ids\"],\n",
        "                attention_mask=inputs[\"attention_mask\"],\n",
        "                max_new_tokens=10,\n",
        "                temperature=0.05,\n",
        "                top_p=0.95,\n",
        "                do_sample=True,\n",
        "                pad_token_id=tokenizer.eos_token_id,\n",
        "                eos_token_id=tokenizer.eos_token_id,\n",
        "                num_return_sequences=1,\n",
        "                use_cache=True\n",
        "            )\n",
        "\n",
        "        # Декодирование\n",
        "        full_generated = tokenizer.decode(outputs[0], skip_special_tokens=True)\n",
        "        pred = full_generated.split(\"Категория:\")[-1].strip().lower()\n",
        "\n",
        "        # Fuzzy matching\n",
        "        best_match = max(categories, key=lambda cat: fuzz.ratio(pred, cat.lower()))\n",
        "        confidence = fuzz.ratio(pred, best_match.lower()) / 100.0\n",
        "\n",
        "        # Страховка: ключевые слова\n",
        "        text_lower = text.lower()\n",
        "        keyword_category = None\n",
        "        for category, keywords in keyword_map.items():\n",
        "            if any(keyword in text_lower for keyword in keywords):\n",
        "                keyword_category = category\n",
        "                break\n",
        "\n",
        "        # Логика: если модель уверена (confidence >= 0.7) или есть ключевое слово\n",
        "        if confidence >= 0.7:\n",
        "            logger.info(f\"Модель: {best_match} (Уверенность: {confidence:.2f}) для '{text[:50]}...'\")\n",
        "            return best_match\n",
        "        elif keyword_category:\n",
        "            logger.info(f\"Ключевое слово: {keyword_category} для '{text[:50]}...'\")\n",
        "            return keyword_category\n",
        "        else:\n",
        "            logger.info(f\"Низкая уверенность ({confidence:.2f}), нет ключевых слов: 'нет товара' для '{text[:50]}...'\")\n",
        "            return \"нет товара\"\n",
        "\n",
        "    except Exception as e:\n",
        "        logger.error(f\"Ошибка при классификации отзыва '{text[:50]}...': {str(e)}\")\n",
        "        return \"нет товара\"\n",
        "\n",
        "test_text = train_df['text_clean'].iloc[0]\n",
        "start_time = time.time()\n",
        "pred = classify_review(test_text, base_model, tokenizer, categories)\n",
        "elapsed = time.time() - start_time\n",
        "print(f\"Отзыв: {test_text[:100]}...\")\n",
        "print(f\"Предсказание: {pred}\")\n",
        "print(f\"Время классификации: {elapsed:.2f} сек\")"
      ]
    },
    {
      "cell_type": "code",
      "execution_count": 7,
      "id": "ce96fb6e",
      "metadata": {
        "colab": {
          "base_uri": "https://localhost:8080/"
        },
        "id": "ce96fb6e",
        "outputId": "e5cce201-d3fc-49e1-9c76-1d838cfaf18b"
      },
      "outputs": [
        {
          "name": "stdout",
          "output_type": "stream",
          "text": [
            "Батч 1: 50 примеров за 51.72с (ср. 1.03с/пример)\n",
            "Батч 2: 50 примеров за 40.81с (ср. 0.82с/пример)\n",
            "Батч 3: 50 примеров за 36.76с (ср. 0.74с/пример)\n",
            "Батч 4: 50 примеров за 39.45с (ср. 0.79с/пример)\n",
            "Батч 5: 50 примеров за 21.73с (ср. 0.43с/пример)\n",
            "Батч 6: 50 примеров за 21.33с (ср. 0.43с/пример)\n",
            "Батч 7: 50 примеров за 21.65с (ср. 0.43с/пример)\n",
            "Батч 8: 50 примеров за 21.73с (ср. 0.43с/пример)\n",
            "Батч 9: 50 примеров за 21.79с (ср. 0.44с/пример)\n",
            "Батч 10: 50 примеров за 21.69с (ср. 0.43с/пример)\n",
            "Батч 11: 50 примеров за 21.63с (ср. 0.43с/пример)\n",
            "Батч 12: 50 примеров за 21.58с (ср. 0.43с/пример)\n",
            "Батч 13: 50 примеров за 21.68с (ср. 0.43с/пример)\n",
            "Батч 14: 50 примеров за 21.64с (ср. 0.43с/пример)\n",
            "Батч 15: 50 примеров за 21.65с (ср. 0.43с/пример)\n",
            "Батч 16: 50 примеров за 21.14с (ср. 0.42с/пример)\n",
            "Батч 17: 50 примеров за 21.55с (ср. 0.43с/пример)\n",
            "Батч 18: 50 примеров за 21.57с (ср. 0.43с/пример)\n",
            "Батч 19: 50 примеров за 22.09с (ср. 0.44с/пример)\n",
            "Батч 20: 50 примеров за 21.40с (ср. 0.43с/пример)\n",
            "Батч 21: 50 примеров за 21.31с (ср. 0.43с/пример)\n",
            "Батч 22: 50 примеров за 21.77с (ср. 0.44с/пример)\n",
            "Батч 23: 50 примеров за 21.68с (ср. 0.43с/пример)\n",
            "Батч 24: 50 примеров за 21.62с (ср. 0.43с/пример)\n",
            "Батч 25: 50 примеров за 21.16с (ср. 0.42с/пример)\n",
            "Батч 26: 50 примеров за 21.58с (ср. 0.43с/пример)\n",
            "Батч 27: 50 примеров за 22.12с (ср. 0.44с/пример)\n",
            "Батч 28: 50 примеров за 21.70с (ср. 0.43с/пример)\n",
            "Батч 29: 50 примеров за 21.62с (ср. 0.43с/пример)\n",
            "Батч 30: 50 примеров за 21.17с (ср. 0.42с/пример)\n",
            "Батч 31: 50 примеров за 21.53с (ср. 0.43с/пример)\n",
            "Батч 32: 50 примеров за 21.75с (ср. 0.43с/пример)\n",
            "Батч 33: 50 примеров за 21.81с (ср. 0.44с/пример)\n",
            "Батч 34: 50 примеров за 21.80с (ср. 0.44с/пример)\n",
            "Батч 35: 50 примеров за 21.76с (ср. 0.44с/пример)\n",
            "Батч 36: 50 примеров за 21.92с (ср. 0.44с/пример)\n",
            "Батч 37: 3 примеров за 1.27с (ср. 0.42с/пример)\n",
            "Общее время разметки: 862.20с (ср. 0.48с/пример)\n",
            "Сохранено в train_labeled.csv: (1803, 3)\n",
            "\n",
            "Распределение классов:\n",
            "label\n",
            "нет товара                1065\n",
            "товары для детей           370\n",
            "одежда                     304\n",
            "бытовая техника             54\n",
            "украшения и аксессуары       5\n",
            "посуда                       4\n",
            "текстиль                     1\n",
            "Name: count, dtype: int64\n"
          ]
        }
      ],
      "source": [
        "batch_size = 50\n",
        "train_labeled = []\n",
        "\n",
        "start_time_total = time.time()\n",
        "for i in range(0, len(train_df), batch_size):\n",
        "    batch = train_df['text_clean'][i:i+batch_size]\n",
        "    batch_preds = []\n",
        "\n",
        "    batch_start = time.time()\n",
        "    for text in batch:\n",
        "        pred = classify_review(text, base_model, tokenizer, categories)\n",
        "        batch_preds.append(pred)\n",
        "\n",
        "    train_labeled.extend(batch_preds)\n",
        "    elapsed_batch = time.time() - batch_start\n",
        "    print(f\"Батч {i//batch_size + 1}: {len(batch)} примеров за {elapsed_batch:.2f}с (ср. {elapsed_batch/len(batch):.2f}с/пример)\")\n",
        "    torch.cuda.empty_cache() if device == \"cuda\" else None\n",
        "\n",
        "total_time = time.time() - start_time_total\n",
        "print(f\"Общее время разметки: {total_time:.2f}с (ср. {total_time/len(train_df):.2f}с/пример)\")\n",
        "\n",
        "train_df_labeled = train_df.copy()\n",
        "train_df_labeled['label'] = train_labeled\n",
        "train_df_labeled[['text_clean', 'label']].to_csv('train_labeled.csv', index=False)\n",
        "print(f\"Сохранено в train_labeled.csv: {train_df_labeled.shape}\")\n",
        "print(\"\\nРаспределение классов:\")\n",
        "print(train_df_labeled['label'].value_counts())"
      ]
    },
    {
      "cell_type": "code",
      "execution_count": 8,
      "id": "b1ced21b",
      "metadata": {
        "colab": {
          "base_uri": "https://localhost:8080/"
        },
        "id": "b1ced21b",
        "outputId": "41a3182b-3638-44ef-c7e3-05e03578e8e2"
      },
      "outputs": [
        {
          "name": "stdout",
          "output_type": "stream",
          "text": [
            "Распределение по категориям:\n",
            "label\n",
            "нет товара                1065\n",
            "товары для детей           370\n",
            "одежда                     304\n",
            "бытовая техника             54\n",
            "украшения и аксессуары       5\n",
            "посуда                       4\n",
            "текстиль                     1\n",
            "Name: count, dtype: int64\n",
            "\n",
            "бытовая техника: плохо прошиты швы, в этих местах материал собирается...\n",
            "\n",
            "одежда: заказали 14.10.2017 , получили 25.10.2017 на мой размер 42, широкий как мешок. надо было все таки ра...\n",
            "\n",
            "Готово! Теперь можно перейти к fine-tune в отдельном notebook'e, используя train_labeled.csv\n"
          ]
        }
      ],
      "source": [
        "print(\"Распределение по категориям:\")\n",
        "label_counts = train_df_labeled['label'].value_counts()\n",
        "print(label_counts)\n",
        "\n",
        "\n",
        "for cat in categories[:3]:\n",
        "    examples = train_df_labeled[train_df_labeled['label'] == cat]['text_clean'].head(1).tolist()\n",
        "    if examples:\n",
        "        print(f\"\\n{cat}: {examples[0][:100]}...\")\n",
        "\n",
        "print(\"\\nГотово! Теперь можно перейти к fine-tune в отдельном notebook'e, используя train_labeled.csv\")"
      ]
    }
  ],
  "metadata": {
    "accelerator": "GPU",
    "colab": {
      "gpuType": "T4",
      "provenance": []
    },
    "kernelspec": {
      "display_name": "Python 3",
      "name": "python3"
    },
    "language_info": {
      "name": "python"
    }
  },
  "nbformat": 4,
  "nbformat_minor": 5
}
